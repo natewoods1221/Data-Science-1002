{
  "nbformat": 4,
  "nbformat_minor": 0,
  "metadata": {
    "colab": {
      "provenance": [],
      "include_colab_link": true
    },
    "kernelspec": {
      "name": "python3",
      "display_name": "Python 3"
    },
    "language_info": {
      "name": "python"
    }
  },
  "cells": [
    {
      "cell_type": "markdown",
      "metadata": {
        "id": "view-in-github",
        "colab_type": "text"
      },
      "source": [
        "<a href=\"https://colab.research.google.com/github/natewoods1221/Data-Science-1002/blob/main/Nate_Due_4_Feb_at_10_pm.ipynb\" target=\"_parent\"><img src=\"https://colab.research.google.com/assets/colab-badge.svg\" alt=\"Open In Colab\"/></a>"
      ]
    },
    {
      "cell_type": "markdown",
      "source": [
        "## DS 1002 homework due Sunday Feb 4 at 10 pm\n"
      ],
      "metadata": {
        "id": "zAw2bmn-TjFJ"
      }
    },
    {
      "cell_type": "markdown",
      "source": [
        "\n",
        "The notebook from Wednesday's class is in my GitHib repository, including the little script we wrote at the end to find mangos in a list of fruit.  The file is called `MorePythonBasics.ipynb`.\n",
        "\n",
        "(By the way I wondered if the correct spelling was \"mangos\" or \"mangoes\" and I found [this](https://www.mango.org/blog-mangos-or-mangoes/)!  Who knew?  There's a National Mango Board!  And they're prepared to adjudicate this and other difficult mango-related questions.)\n",
        "\n",
        "\n"
      ],
      "metadata": {
        "id": "Cmf4xleCSWCu"
      }
    },
    {
      "cell_type": "markdown",
      "source": [
        "### Problem 1:  finding fruit\n",
        "\n",
        "Adapt the function we wrote in class so that it takes two arguments,\n",
        "\n",
        "`fruit` and `hungryfor` ,\n",
        "\n",
        "and then searches through the list `fruit` for the item `hungryfor`.  The line that calls the function should look like\n",
        "\n",
        "`find_fruit(food, hungryfor)`\n",
        "\n",
        "Make it print out the results in the same way, so for example if `food` is what we entered in class and `hungryfor = \"tomatoes\"` then the output will be\n",
        "\n",
        "```python\n",
        "No tomatoes here.\n",
        "No tomatoes here.\n",
        "No tomatoes here.\n",
        "No tomatoes here.\n",
        "No tomatoes here.\n",
        "```\n",
        "Test your code by changing the values of `food` and `hungryfor` and make sure the output is what you expect.  Show a few outputs, each in its own code chunk.\n",
        "\n"
      ],
      "metadata": {
        "id": "rJLyGryAThhp"
      }
    },
    {
      "cell_type": "code",
      "source": [
        "def find_fruit(fruit, hungryfor):\n",
        "  found = False\n",
        "  for item in fruit:\n",
        "    if item == hungryfor:\n",
        "      found = True\n",
        "      print(f\"I found {hungryfor}\")\n",
        "      break\n",
        "  if not found:\n",
        "    print(f\"No {hungryfor} here\")\n",
        "\n",
        "food = [\"oranges\",\"Pears\", \"apples\",\"peaches\",\"lemons\"]\n",
        "hungryfor = \"lemons\"\n",
        "\n",
        "\n"
      ],
      "metadata": {
        "id": "YXwLLFCt6H2f"
      },
      "execution_count": 20,
      "outputs": []
    },
    {
      "cell_type": "code",
      "source": [
        "find_fruit(food, hungryfor)\n",
        "\n",
        "def find_fruit(fruit, hungryfor):\n",
        "  found = False\n",
        "  for item in fruit:\n",
        "    if item == hungryfor:\n",
        "      found = True\n",
        "      print(f\"I found {hungryfor}\")\n",
        "      break\n",
        "  if not found:\n",
        "    print(f\"No {hungryfor} here\")\n",
        "\n",
        "food = [\"oranges\",\"Pears\", \"apples\",\"peaches\",\"lemons\"]\n",
        "hungryfor = \"tomatoes\"\n",
        "\n",
        "find_fruit(food, hungryfor)\n",
        "\n",
        "def find_fruit(fruit, hungryfor):\n",
        "  found = False\n",
        "  for item in fruit:\n",
        "    if item == hungryfor:\n",
        "      found = True\n",
        "      print(f\"I found {hungryfor}\")\n",
        "      break\n",
        "  if not found:\n",
        "    print(f\"No {hungryfor} here\")\n",
        "\n",
        "food = [\"oranges\",\"Pears\", \"apples\",\"peaches\",\"lemons\"]\n",
        "hungryfor = \"oranges\"\n",
        "\n",
        "find_fruit(food, hungryfor)"
      ],
      "metadata": {
        "id": "bYdqsfrh6KnE",
        "outputId": "abd49c90-2655-471a-f889-1db4e425ec2f",
        "colab": {
          "base_uri": "https://localhost:8080/"
        }
      },
      "execution_count": 21,
      "outputs": [
        {
          "output_type": "stream",
          "name": "stdout",
          "text": [
            "I found lemons\n",
            "No tomatoes here\n",
            "I found oranges\n"
          ]
        }
      ]
    },
    {
      "cell_type": "markdown",
      "source": [
        "#### Notes\n",
        "1. Once you have run a code chunk in the notebook, it will remember that it has been run.  You don't have to call the function in the same code chunk where the function is defined.  In other words, to call the function with new inputs you can simply make a new code chunk, change the inputs, and call the function.  *You don't have to retype the definition of the function each time.*\n",
        "\n",
        "2. Make sure you clean things up when you're done, so you don't include old code that doesn't work or old incorrect outputs.\n"
      ],
      "metadata": {
        "id": "AMp-a1ym6W7w"
      }
    },
    {
      "cell_type": "markdown",
      "source": [
        "### Problem 2:  the `input()` function\n",
        "\n",
        "(a) Programming gets way more fun when you start to interact with your own programs!  Here is a function that lets you start doing that.  Run the following code and see what happens:\n"
      ],
      "metadata": {
        "id": "R-s9cZ6GYWNX"
      }
    },
    {
      "cell_type": "code",
      "source": [
        "input()\n",
        "print(\"Hello there!\")"
      ],
      "metadata": {
        "id": "IEK8O2qNYkXn",
        "outputId": "6102c1f4-45d0-4586-972e-7fb5601161f0",
        "colab": {
          "base_uri": "https://localhost:8080/"
        }
      },
      "execution_count": 10,
      "outputs": [
        {
          "output_type": "stream",
          "name": "stdout",
          "text": [
            "good\n",
            "Hello there!\n"
          ]
        }
      ]
    },
    {
      "cell_type": "markdown",
      "source": [
        "(b) As you just saw, the code waits for you to enter something before it continues.  If you want to actually use the input in the code, you should assign its value to a variable:"
      ],
      "metadata": {
        "id": "sktZu8wWzFF6"
      }
    },
    {
      "cell_type": "code",
      "source": [
        "message = input()\n",
        "print(message)"
      ],
      "metadata": {
        "id": "fMmBkzbyz9Ty",
        "outputId": "b7d93fb1-a613-474c-9dc0-ad4654933cb6",
        "colab": {
          "base_uri": "https://localhost:8080/"
        }
      },
      "execution_count": 11,
      "outputs": [
        {
          "output_type": "stream",
          "name": "stdout",
          "text": [
            "hi\n",
            "hi\n"
          ]
        }
      ]
    },
    {
      "cell_type": "markdown",
      "source": [
        "(c) Now you can start interacting.  Write some code that asks the user what they are hungry for (using a print statement), and then takes the user input, and then runs the `find_fruit` function from the previous code block using the user input as the `hungryfor` variable.  Test your code, and then include a few different outputs that demonstrate that the code works."
      ],
      "metadata": {
        "id": "ny41z-dQYmjQ"
      }
    },
    {
      "cell_type": "code",
      "source": [
        "def find_fruit(fruit, hungryfor):\n",
        "  found = False\n",
        "  for item in fruit:\n",
        "    if item == hungryfor:\n",
        "      found = True\n",
        "      print(f\"I found some {hungryfor}\")\n",
        "      break\n",
        "  if not found:\n",
        "    print(f\"No {hungryfor} here sadly\")\n",
        "\n",
        "food = [\"oranges\",\"pears\", \"apples\",\"peaches\",\"lemons\"]\n",
        "print(\"what food do you want?\")\n",
        "hungryfor = input()\n",
        "find_fruit(food, hungryfor)\n"
      ],
      "metadata": {
        "id": "SKAVoAZ00xOx",
        "outputId": "b40276ec-2fdb-4d74-cfc8-2daba4a71ba8",
        "colab": {
          "base_uri": "https://localhost:8080/"
        }
      },
      "execution_count": 19,
      "outputs": [
        {
          "output_type": "stream",
          "name": "stdout",
          "text": [
            "what food do you want?\n",
            "pears\n",
            "I found some pears\n"
          ]
        }
      ]
    },
    {
      "cell_type": "code",
      "source": [
        "def find_fruit(fruit, hungryfor):\n",
        "  found = False\n",
        "  for item in fruit:\n",
        "    if item == hungryfor:\n",
        "      found = True\n",
        "      print(f\"I found some {hungryfor}\")\n",
        "      break\n",
        "  if not found:\n",
        "    print(f\"No {hungryfor} here sadly\")\n",
        "\n",
        "food = [\"oranges\",\"pears\", \"apples\",\"peaches\",\"lemons\"]\n",
        "print(\"what food do you want?\")\n",
        "hungryfor = input()\n",
        "find_fruit(food, hungryfor)\n",
        "\n",
        "def find_fruit(fruit, hungryfor):\n",
        "  found = False\n",
        "  for item in fruit:\n",
        "    if item == hungryfor:\n",
        "      found = True\n",
        "      print(f\"I found some {hungryfor}\")\n",
        "      break\n",
        "  if not found:\n",
        "    print(f\"No {hungryfor} here sadly\")\n",
        "\n",
        "food = [\"oranges\",\"pears\", \"apples\",\"peaches\",\"lemons\"]\n",
        "print(\"what food do you want?\")\n",
        "hungryfor = input()\n",
        "find_fruit(food, hungryfor)\n",
        "\n",
        "def find_fruit(fruit, hungryfor):\n",
        "  found = False\n",
        "  for item in fruit:\n",
        "    if item == hungryfor:\n",
        "      found = True\n",
        "      print(f\"I found some {hungryfor}\")\n",
        "      break\n",
        "  if not found:\n",
        "    print(f\"No {hungryfor} here sadly\")\n",
        "\n",
        "food = [\"oranges\",\"pears\", \"apples\",\"peaches\",\"lemons\"]\n",
        "print(\"what food do you want?\")\n",
        "hungryfor = input()\n",
        "find_fruit(food, hungryfor)\n",
        "\n"
      ],
      "metadata": {
        "id": "sQQVP1oa5dR7",
        "outputId": "6f1cb4c5-aab5-4d99-dfdd-44867713dab9",
        "colab": {
          "base_uri": "https://localhost:8080/"
        }
      },
      "execution_count": 23,
      "outputs": [
        {
          "output_type": "stream",
          "name": "stdout",
          "text": [
            "what food do you want?\n",
            "chicken\n",
            "No chicken here sadly\n",
            "what food do you want?\n",
            "turkey\n",
            "No turkey here sadly\n",
            "what food do you want?\n",
            "lemons\n",
            "I found some lemons\n"
          ]
        }
      ]
    },
    {
      "cell_type": "markdown",
      "source": [
        "### Problem 3:  ratings  \n",
        "Write a piece of code which prompts a user with the question \"What is your rating? (1-10)\" and then asks for user input.  Let's say the input is 3.  Once the input is received, print out a message that says.\n",
        "\n",
        "\"Your rating is *** .\"\n",
        "\n",
        "Obviously, your program should print the number of stars corresponding to the input!  If the input is 5, it should print\n",
        "\n",
        "\"Your rating is ***** .\"\n",
        "\n",
        "Show at least two outputs of your code."
      ],
      "metadata": {
        "id": "5CWOlHBz0xoZ"
      }
    },
    {
      "cell_type": "code",
      "source": [
        "print(\"what is your rating?\")\n",
        "rating = int(input())\n",
        "stars = '*' * rating\n",
        "print(f\"your rating is {stars}\")"
      ],
      "metadata": {
        "id": "MCWnTAUW2Gin",
        "outputId": "1e853214-3178-4040-94c3-99f6043f5c7b",
        "colab": {
          "base_uri": "https://localhost:8080/"
        }
      },
      "execution_count": 28,
      "outputs": [
        {
          "output_type": "stream",
          "name": "stdout",
          "text": [
            "what is your rating?\n",
            "8\n",
            "your rating is ********\n"
          ]
        }
      ]
    },
    {
      "cell_type": "code",
      "source": [
        "print(\"what is your rating?\")\n",
        "rating = int(input())\n",
        "stars = '*' * rating\n",
        "print(f\"your rating is {stars}\")\n",
        "\n",
        "print(\"what is your rating?\")\n",
        "rating = int(input())\n",
        "stars = '*' * rating\n",
        "print(f\"your rating is {stars}\")"
      ],
      "metadata": {
        "id": "nxm67oCk8Ukn",
        "outputId": "0342eca5-f243-4fcf-e79f-ff66c6a1b6a3",
        "colab": {
          "base_uri": "https://localhost:8080/"
        }
      },
      "execution_count": 29,
      "outputs": [
        {
          "output_type": "stream",
          "name": "stdout",
          "text": [
            "what is your rating?\n",
            "2\n",
            "your rating is **\n",
            "what is your rating?\n",
            "7\n",
            "your rating is *******\n"
          ]
        }
      ]
    },
    {
      "cell_type": "markdown",
      "source": [
        "You do not have to do this as part of the assignment, but one thing to think about with any code that has **interactivity** is that you want to make it **robust**.  This means you should imagine someone is *trying* to break your code, and you should try to make it as indestructible as possible.\n",
        "\n",
        "What will happen to your code if someone enters 3.5?  Or -12?  Or \"nonsense\"?  Test it and see.  Think about how you might guard against errors.\n"
      ],
      "metadata": {
        "id": "VRfc9puT2yac"
      }
    }
  ]
}