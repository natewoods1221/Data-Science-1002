{
  "nbformat": 4,
  "nbformat_minor": 0,
  "metadata": {
    "colab": {
      "provenance": [],
      "include_colab_link": true
    },
    "kernelspec": {
      "name": "python3",
      "display_name": "Python 3"
    },
    "language_info": {
      "name": "python"
    }
  },
  "cells": [
    {
      "cell_type": "markdown",
      "metadata": {
        "id": "view-in-github",
        "colab_type": "text"
      },
      "source": [
        "<a href=\"https://colab.research.google.com/github/natewoods1221/Data-Science-1002/blob/main/numpy/More_numpy_blank.ipynb\" target=\"_parent\"><img src=\"https://colab.research.google.com/assets/colab-badge.svg\" alt=\"Open In Colab\"/></a>"
      ]
    },
    {
      "cell_type": "markdown",
      "source": [
        "### More NumPy\n",
        "### DS 1002: Programming for Data Science\n",
        "---  \n",
        "\n",
        "\n",
        "### SOURCES\n",
        "- https://numpy.org/\n",
        "- https://en.wikipedia.org/wiki/NumPy\n",
        "- https://www.scipy.org/\n",
        "- https://en.wikipedia.org/wiki/SciPy\n",
        "- https://numpy.org/doc/stable/reference/generated/numpy.ndarray.html\n",
        "- https://docs.scipy.org/doc/numpy-1.15.1/reference/generated/numpy.random.randint.html\n",
        "\n",
        "### OBJECTIVES\n",
        "- Introduction to Numpy\n",
        "\n",
        "### CONCEPTS\n",
        "- The numpy package contains useful functions for math operations\n",
        "- The ndarray is the workhorse of the package"
      ],
      "metadata": {
        "id": "mXD9ihv6JzKT"
      }
    },
    {
      "cell_type": "code",
      "source": [
        "import numpy as np"
      ],
      "metadata": {
        "id": "pbPmL-iWBAX-"
      },
      "execution_count": null,
      "outputs": []
    },
    {
      "cell_type": "markdown",
      "source": [
        "### Constant arrays"
      ],
      "metadata": {
        "id": "wAX7yl2CKLBm"
      }
    },
    {
      "cell_type": "code",
      "execution_count": null,
      "metadata": {
        "id": "yI1i_jInA5Ke"
      },
      "outputs": [],
      "source": [
        "# Create an array of zeros with three rows and two columns\n",
        "zero_array = np.zeros((3, 2))\n",
        "print(zero_array)\n",
        "\n",
        "# or of ones\n",
        "# one_array = np.ones((2,3))\n",
        "# print(one_array)\n",
        "\n",
        "# or of anything\n",
        "# constant_array = np.full((2,4),17)\n",
        "# print(constant_array)\n",
        "\n",
        "# mimic the size of an existing array\n",
        "# x = np.zeros_like(constant_array)\n",
        "# print(x)\n"
      ]
    },
    {
      "cell_type": "markdown",
      "source": [
        "### Making copies\n",
        "\n",
        "is tricky and takes some getting used to!"
      ],
      "metadata": {
        "id": "WMp4Vh4gKeNB"
      }
    },
    {
      "cell_type": "code",
      "source": [
        "# copying values:  this is tricky!\n",
        "zero_array = np.zeros((2,5))\n",
        "print(zero_array)\n",
        "\n",
        "new_array = zero_array\n",
        "\n",
        "new_array[1,1] = 17\n",
        "\n",
        "print(new_array)\n",
        "print(zero_array)\n",
        "print(new_array == zero_array)\n",
        "\n",
        "\n",
        "print(\"\\n \\n\")\n",
        "\n",
        "# compare with the following\n",
        "# z_array = np.zeros((2,5))\n",
        "# print(z_array)\n",
        "# n_array = np.copy(z_array)\n",
        "# n_array[1,1] = 17\n",
        "# print(z_array)\n",
        "\n",
        "# print(n_array == z_array)\n"
      ],
      "metadata": {
        "id": "C9GH9A8iBfzs"
      },
      "execution_count": null,
      "outputs": []
    },
    {
      "cell_type": "markdown",
      "source": [
        "### Broadcasting values"
      ],
      "metadata": {
        "id": "S3BZ10TuKtHL"
      }
    },
    {
      "cell_type": "code",
      "source": [
        "x_array = np.random.randint(0,100,(5,5))\n",
        "print(x_array , \"\\n\")\n",
        "x_array[:,3] = 17\n",
        "print(x_array)\n"
      ],
      "metadata": {
        "id": "nVPOMJUlKu39"
      },
      "execution_count": null,
      "outputs": []
    },
    {
      "cell_type": "markdown",
      "source": [
        "### Some array manipulations"
      ],
      "metadata": {
        "id": "OPJDjkwGLA6C"
      }
    },
    {
      "cell_type": "code",
      "source": [
        "# some basic manipulations\n",
        "\n",
        "# Start with a basic two-dimensional array:\n",
        "foo = np.array([[1,2,3,4,5],[6,7,8,9,10]])\n",
        "\n",
        "# flip - reverse the data of an array\n",
        "oof = np.flip(foo)\n",
        "print(oof)\n",
        "\n",
        "# copy - copy an array to an entirely separate array\n",
        "goo = np.copy(foo)\n",
        "print(goo)\n",
        "\n",
        "# concatenate - combine all elements within an array into a single list\n",
        "new_foo = np.concatenate(foo)\n",
        "print(new_foo)\n",
        "\n",
        "# min\n",
        "foomin = np.min(foo)\n",
        "print(foomin)\n",
        "\n",
        "# max\n",
        "foomax = np.max(foo)\n",
        "print(foomax)\n",
        "\n",
        "# mean\n",
        "foomean = np.mean(foo)\n",
        "print(foomean)\n",
        "\n",
        "# sin/cos/tan\n",
        "foosin = np.sin(foo)\n",
        "print(foosin)\n",
        "\n",
        "# standard deviation\n",
        "foostd = np.std(foo)\n",
        "print(foostd)"
      ],
      "metadata": {
        "id": "ZqZ6Y2RYBxuq"
      },
      "execution_count": null,
      "outputs": []
    },
    {
      "cell_type": "markdown",
      "source": [
        "### Inserting + Dropping Array Values\n",
        "\n",
        "There are times it's useful to drop a specific index or the start/end of an array of values."
      ],
      "metadata": {
        "id": "c-2Y-CrpEl0k"
      }
    },
    {
      "cell_type": "code",
      "source": [
        "# Drop the first item\n",
        "\n",
        "myarr = np.array([10,15,20,25,30,35,40,45,50])\n",
        "\n",
        "drop_start = myarr[1:]\n",
        "print(drop_start)"
      ],
      "metadata": {
        "id": "JHuM3bDzEqTh"
      },
      "execution_count": null,
      "outputs": []
    },
    {
      "cell_type": "code",
      "source": [
        "# Drop the last item\n",
        "\n",
        "drop_end = myarr[:-1]\n",
        "print(drop_end)"
      ],
      "metadata": {
        "id": "yOy-fXNjFxrT"
      },
      "execution_count": null,
      "outputs": []
    },
    {
      "cell_type": "code",
      "source": [
        "# Drop a specific index\n",
        "\n",
        "drop_second_index = np.delete(myarr, 2)\n",
        "print(drop_second_index)"
      ],
      "metadata": {
        "id": "jLSxG43GF0-R"
      },
      "execution_count": null,
      "outputs": []
    },
    {
      "cell_type": "code",
      "source": [
        "# Drop every other item in the array\n",
        "# Removes every other item starting with 0\n",
        "\n",
        "every_other = np.delete(myarr, np.arange(0, len(myarr), 2))\n",
        "print(every_other)\n",
        "\n",
        "# Another version that removes every other starting with 1\n",
        "every_other = np.delete(myarr, np.arange(0, len(myarr), 2))\n",
        "print(every_other)"
      ],
      "metadata": {
        "id": "eKlRMSolF4j7"
      },
      "execution_count": null,
      "outputs": []
    },
    {
      "cell_type": "code",
      "source": [
        "arr2d = np.array([[1, 2, 3], [4, 5, 6], [7, 8, 9]])\n",
        "arr2d"
      ],
      "metadata": {
        "id": "fj6h0DniF7nk"
      },
      "execution_count": null,
      "outputs": []
    },
    {
      "cell_type": "code",
      "source": [
        "arr2d[2]"
      ],
      "metadata": {
        "id": "c5ZrGf2eGNZQ"
      },
      "execution_count": null,
      "outputs": []
    },
    {
      "cell_type": "code",
      "source": [
        "# Simplified notation\n",
        "\n",
        "# arr2d[0][2]\n",
        "# arr2d[0, 2]\n"
      ],
      "metadata": {
        "id": "YsnFcXiZGN8P"
      },
      "execution_count": null,
      "outputs": []
    },
    {
      "cell_type": "markdown",
      "source": [
        "A nice visual of a 2D array\n",
        "\n",
        "<img src=\"https://learning.oreilly.com/api/v2/epubs/\n",
        "urn:orm:book:9781449323592/files/\n",
        "httpatomoreillycomsourceoreillyimages2172112.png\" height=\"50%\" width=\"50%\"/>"
      ],
      "metadata": {
        "id": "rqJxGlUIG0Mz"
      }
    },
    {
      "cell_type": "markdown",
      "source": [
        "**Two-Dimensional Array Slicing**\n",
        "\n",
        "<img src=\"https://learning.oreilly.com/api/v2/epubs/urn:orm:book:9781449323592/files/httpatomoreillycomsourceoreillyimages2172114.png\" height=\"50%\" width=\"50%\"/>"
      ],
      "metadata": {
        "id": "nmpAjq8mG-yN"
      }
    },
    {
      "cell_type": "markdown",
      "source": [
        "### Student Exercises\n",
        "\n",
        "* Convert `sudoku_game` into a NumPy array called `sudoku_array`.  \n",
        "* Print the class `type()` of `sudoku_array` to check that your code has worked properly.\n"
      ],
      "metadata": {
        "id": "OUOFrGdOHaoK"
      }
    },
    {
      "cell_type": "code",
      "source": [
        "# sudoku_game is Python list containing a sudoku game\n",
        "\n",
        "sudoku_game = [[0, 0, 4, 3, 0, 0, 2, 0, 9],\n",
        "               [0, 0, 5, 0, 0, 9, 0, 0, 1],\n",
        "               [0, 7, 0, 0, 6, 0, 0, 4, 3],\n",
        "               [0, 0, 6, 0, 0, 2, 0, 8, 7],\n",
        "               [1, 9, 0, 0, 0, 7, 4, 0, 0],\n",
        "               [0, 5, 0, 0, 8, 3, 0, 0, 0],\n",
        "               [6, 0, 0, 0, 0, 0, 1, 0, 5],\n",
        "               [0, 0, 3, 5, 0, 8, 6, 9, 0],\n",
        "               [0, 4, 2, 9, 1, 0, 3, 0, 0]]"
      ],
      "metadata": {
        "id": "iS3dyZzVHbb2"
      },
      "execution_count": null,
      "outputs": []
    },
    {
      "cell_type": "code",
      "source": [
        "# put code here"
      ],
      "metadata": {
        "id": "wNiWXu4fHf-R"
      },
      "execution_count": null,
      "outputs": []
    },
    {
      "cell_type": "markdown",
      "source": [
        "Create and print an array filled with zeros called `zero_array`, which has two rows and four columns."
      ],
      "metadata": {
        "id": "QBp0wbQSHyKm"
      }
    },
    {
      "cell_type": "code",
      "source": [
        "# put code here"
      ],
      "metadata": {
        "id": "S_IMFzDyHy4L"
      },
      "execution_count": null,
      "outputs": []
    },
    {
      "cell_type": "markdown",
      "source": [
        "Create and print an array of random floats between 0 and 1 called `random_array`, which has three rows and six columns."
      ],
      "metadata": {
        "id": "eLZUMyLoHzWe"
      }
    },
    {
      "cell_type": "code",
      "source": [
        "# put code here"
      ],
      "metadata": {
        "id": "DIjIJcIkH2gF"
      },
      "execution_count": null,
      "outputs": []
    },
    {
      "cell_type": "markdown",
      "source": [
        "Your next task is to create a scatter plot with the values from `doubling_array` on the y-axis.  \n",
        "\n",
        "A scatter plot can be created (and shown) using the following functions from the package `matplotlib.pyplot` (shown here aliased as `plt`):  \n",
        "\n",
        "`plt.scatter(x_values, y_values)`\n",
        "\n",
        "`plt.show()`"
      ],
      "metadata": {
        "id": "yGsi1gotH29g"
      }
    },
    {
      "cell_type": "code",
      "source": [
        "doubling_array = np.array([1, 2, 4, 8, 16, 32, 64, 128, 256, 512])"
      ],
      "metadata": {
        "id": "1L-S-c4dIOuy"
      },
      "execution_count": null,
      "outputs": []
    },
    {
      "cell_type": "markdown",
      "source": [
        "* Using `np.arange()`, create a 1D array called `one_to_ten` which holds all integers from one to ten (inclusive).  \n",
        "\n",
        "* Create a scatterplot with `doubling_array` as the y values and `one_to_ten` as the x values.  "
      ],
      "metadata": {
        "id": "4fU6PPs4Ie9G"
      }
    },
    {
      "cell_type": "markdown",
      "source": [
        "Earlier you created a `sudoku_game` two-dimensional NumPy array. Perhaps you have hundreds of sudoku game arrays, and you'd like to save the solution for this one, `sudoku_solution`, as part of the same array as its corresponding game in order to organize your sudoku data better. You could accomplish this by stacking the two 2D arrays on top of each other to create a 3D array."
      ],
      "metadata": {
        "id": "51DOwEt5ItzF"
      }
    },
    {
      "cell_type": "code",
      "source": [
        "sudoku_solution = [[8, 6, 4, 3, 7, 1, 2, 5, 9],\n",
        "                   [3, 2, 5, 8, 4, 9, 7, 6, 1],\n",
        "                   [9, 7, 1, 2, 6, 5, 8, 4, 3],\n",
        "                   [4, 3, 6, 1, 9, 2, 5, 8, 7],\n",
        "                   [1, 9, 8, 6, 5, 7, 4, 3, 2],\n",
        "                   [2, 5, 7, 4, 8, 3, 9, 1, 6],\n",
        "                   [6, 8, 9, 7, 3, 4, 1, 2, 5],\n",
        "                   [7, 1, 3, 5, 2, 8, 6, 9, 4],\n",
        "                   [5, 4, 2, 9, 1, 6, 3, 7, 8]]\n"
      ],
      "metadata": {
        "id": "g09WkBUPI2TK"
      },
      "execution_count": null,
      "outputs": []
    },
    {
      "cell_type": "markdown",
      "source": [
        "* Create a 3D array called `game_and_solution` by stacking the two 2D arrays, created from `sudoku_game` and `sudoku_solution`, on top of one another; in the final array, `sudoku_game` should appear before `sudoku_solution`.  \n",
        "\n",
        "* Print `game_and_solution`."
      ],
      "metadata": {
        "id": "48tNWEf9I3UH"
      }
    },
    {
      "cell_type": "code",
      "source": [
        "# put code here"
      ],
      "metadata": {
        "id": "WsJo0S6dJBR3"
      },
      "execution_count": null,
      "outputs": []
    },
    {
      "cell_type": "markdown",
      "source": [
        "* Create another 3D array called `new_game_and_solution` with a different 2D game and 2D solution pair: `new_sudoku_game` and `new_sudoku_solution` (below). `new_sudoku_game` should appear before `new_sudoku_solution`.   \n",
        "\n",
        "* Create a 4D array called `games_and_solutions` by making an array out of the two 3D arrays: `game_and_solution` and `new_game_and_solution`, in that order.  \n",
        "\n",
        "* Print the shape of `games_and_solutions`  "
      ],
      "metadata": {
        "id": "CSxRhh6TJBwn"
      }
    },
    {
      "cell_type": "code",
      "source": [
        "new_sudoku_game = [[0, 0, 4, 3, 0, 0, 0, 0, 0],\n",
        "                   [8, 9, 0, 2, 0, 0, 6, 7, 0],\n",
        "                   [7, 0, 0, 9, 0, 0, 0, 5, 0],\n",
        "                   [5, 0, 0, 0, 0, 8, 1, 4, 0],\n",
        "                   [0, 7, 0, 0, 3, 2, 0, 6, 0],\n",
        "                   [6, 0, 0, 0, 0, 1, 3, 0, 8],\n",
        "                   [0, 0, 1, 7, 5, 0, 9, 0, 0],\n",
        "                   [0, 0, 5, 0, 4, 0, 0, 1, 2],\n",
        "                   [9, 8, 0, 0, 0, 6, 0, 0, 5]]\n",
        "\n",
        "new_sudoku_solution = [[2, 5, 4, 3, 6, 7, 8, 9, 1],\n",
        "                       [8, 9, 3, 2, 1, 5, 6, 7, 4],\n",
        "                       [7, 1, 6, 9, 8, 4, 2, 5, 3],\n",
        "                       [5, 3, 2, 6, 9, 8, 1, 4, 7],\n",
        "                       [1, 7, 8, 4, 3, 2, 5, 6, 9],\n",
        "                       [6, 4, 9, 5, 7, 1, 3, 2, 8],\n",
        "                       [4, 2, 1, 7, 5, 3, 9, 8, 6],\n",
        "                       [3, 6, 5, 8, 4, 9, 7, 1, 2],\n",
        "                       [9, 8, 7, 1, 2, 6, 4, 3, 5]]"
      ],
      "metadata": {
        "id": "izVKZ7PQJCfG"
      },
      "execution_count": null,
      "outputs": []
    },
    {
      "cell_type": "code",
      "source": [
        "# put code here"
      ],
      "metadata": {
        "id": "kzny1zWTMXLs"
      },
      "execution_count": null,
      "outputs": []
    },
    {
      "cell_type": "markdown",
      "source": [
        "* Flatten `sudoku_game` so that it is a 1D array, and save it as `flattened_game`.  \n",
        "\n",
        "* Print the `.shape` of `flattened_game`.\n",
        "\n",
        "* Hint: look up the documentation on `.flatten`."
      ],
      "metadata": {
        "id": "IVM9bCnAJLdk"
      }
    },
    {
      "cell_type": "code",
      "source": [
        "# put code here"
      ],
      "metadata": {
        "id": "jgO3JpoJJMfc"
      },
      "execution_count": null,
      "outputs": []
    },
    {
      "cell_type": "markdown",
      "source": [
        "* Reshape the `flattened_game` back to its original shape of nine rows and nine columns; save the new array as `reshaped_game`.  \n",
        "\n",
        "* Look up documenation on `.reshape`.\n",
        "\n",
        "* Does NumPy keep the array elements in the same order after being flattened and reshaped?"
      ],
      "metadata": {
        "id": "0vTBiuSLJQcv"
      }
    },
    {
      "cell_type": "code",
      "source": [
        "# put code here"
      ],
      "metadata": {
        "id": "80hxMhr2JREn"
      },
      "execution_count": null,
      "outputs": []
    }
  ]
}