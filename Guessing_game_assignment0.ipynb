{
  "nbformat": 4,
  "nbformat_minor": 0,
  "metadata": {
    "colab": {
      "provenance": [],
      "authorship_tag": "ABX9TyM8s5OYPnbkcE2oe4Goac1P",
      "include_colab_link": true
    },
    "kernelspec": {
      "name": "python3",
      "display_name": "Python 3"
    },
    "language_info": {
      "name": "python"
    }
  },
  "cells": [
    {
      "cell_type": "markdown",
      "metadata": {
        "id": "view-in-github",
        "colab_type": "text"
      },
      "source": [
        "<a href=\"https://colab.research.google.com/github/natewoods1221/Data-Science-1002/blob/main/Guessing_game_assignment0.ipynb\" target=\"_parent\"><img src=\"https://colab.research.google.com/assets/colab-badge.svg\" alt=\"Open In Colab\"/></a>"
      ]
    },
    {
      "cell_type": "code",
      "execution_count": 45,
      "metadata": {
        "id": "_Xgx5cgIYCIh",
        "colab": {
          "base_uri": "https://localhost:8080/"
        },
        "outputId": "a3eec80d-f4f7-42b9-981a-31bde99d6b58"
      },
      "outputs": [
        {
          "output_type": "stream",
          "name": "stdout",
          "text": [
            "The goal of the game is to guess the integer I came up with. I will be choosing a random integer between 0 and 100. Good Luck!\n",
            "Please enter your guess between 0 and 100:50\n",
            "Too low\n",
            "Please enter your guess between 0 and 100:44\n",
            "Too low\n",
            "Please enter your guess between 0 and 100:60\n",
            "Too high\n",
            "Please enter your guess between 0 and 100:5.5\n",
            "Please choose an integer and guess again\n",
            "Please enter your guess between 0 and 100:50\n",
            "Too low\n",
            "Please enter your guess between 0 and 100:55\n",
            "Too low\n",
            "Please enter your guess between 0 and 100:59\n",
            "Too high\n",
            "Please enter your guess between 0 and 100:58\n",
            "Too high\n",
            "Please enter your guess between 0 and 100:57\n",
            "You got it!\n"
          ]
        }
      ],
      "source": [
        "#this assignment took me and hour and a half\n",
        "print(\"The goal of the game is to guess the integer I came up with. I will be choosing a random integer between 0 and 100. Good Luck!\")\n",
        "\n",
        "import numpy as np\n",
        "computer_integer = np.random.randint(0, 100)\n",
        "\n",
        "while True:\n",
        "    try:\n",
        "        player_integer = int(input(\"Please enter your guess between 0 and 100:\"))\n",
        "\n",
        "        if player_integer == computer_integer:\n",
        "            print(\"You got it!\")\n",
        "            break\n",
        "        elif player_integer > computer_integer:\n",
        "            print(\"Too high\")\n",
        "        else:\n",
        "            print(\"Too low\")\n",
        "    except ValueError:\n",
        "        print(\"Please choose an integer and guess again\")\n",
        "\n",
        "\n",
        "\n",
        "\n"
      ]
    }
  ]
}