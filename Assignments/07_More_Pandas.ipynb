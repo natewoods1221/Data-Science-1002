{
  "nbformat": 4,
  "nbformat_minor": 0,
  "metadata": {
    "colab": {
      "provenance": [],
      "include_colab_link": true
    },
    "kernelspec": {
      "name": "python3",
      "display_name": "Python 3"
    },
    "language_info": {
      "name": "python"
    }
  },
  "cells": [
    {
      "cell_type": "markdown",
      "metadata": {
        "id": "view-in-github",
        "colab_type": "text"
      },
      "source": [
        "<a href=\"https://colab.research.google.com/github/natewoods1221/Data-Science-1002/blob/main/Assignments/07_More_Pandas.ipynb\" target=\"_parent\"><img src=\"https://colab.research.google.com/assets/colab-badge.svg\" alt=\"Open In Colab\"/></a>"
      ]
    },
    {
      "cell_type": "markdown",
      "source": [
        "# More pandas exercises\n",
        "\n",
        "Create a Colab notebook. Complete the tasks as specified in the directions. Run each cell to return the desired output. Save your notebook back to your GitHub repository and submit the GitHub URL for your notebook for review."
      ],
      "metadata": {
        "id": "phbaQTT5gy8A"
      }
    },
    {
      "cell_type": "markdown",
      "source": [
        "1.  Load the following dataset into Colab and perform the requested operations in code.\n",
        "\n",
        " Source: https://ds1002-resources.s3.amazonaws.com/data/ride_sharing.csv"
      ],
      "metadata": {
        "id": "WlPHuSLARJBJ"
      }
    },
    {
      "cell_type": "code",
      "source": [
        "# Load pandas and the data\n",
        "import pandas as pd\n",
        "df = pd.read_csv('/content/ride_sharing (4).csv')\n",
        "print(df.head())"
      ],
      "metadata": {
        "id": "kdFLCHtOg53p",
        "outputId": "24b6e14b-92b0-405d-fbf5-86a56a2bf83a",
        "colab": {
          "base_uri": "https://localhost:8080/"
        }
      },
      "execution_count": 2,
      "outputs": [
        {
          "output_type": "stream",
          "name": "stdout",
          "text": [
            "     duration  station_A_id  \\\n",
            "0  12 minutes            81   \n",
            "1  24 minutes             3   \n",
            "2   8 minutes            67   \n",
            "3   4 minutes            16   \n",
            "4  11 minutes            22   \n",
            "\n",
            "                                      station_A_name  station_B_id  \\\n",
            "0                                 Berry St at 4th St           323   \n",
            "1       Powell St BART Station (Market St at 4th St)           118   \n",
            "2  San Francisco Caltrain Station 2  (Townsend St...            23   \n",
            "3                            Steuart St at Market St            28   \n",
            "4                              Howard St at Beale St           350   \n",
            "\n",
            "                    station_B_name  bike_id  user_type  user_birth_year  \\\n",
            "0               Broadway at Kearny     5480          2             1959   \n",
            "1  Eureka Valley Recreation Center     5193          2             1965   \n",
            "2    The Embarcadero at Steuart St     3652          3             1993   \n",
            "3     The Embarcadero at Bryant St     1883          1             1979   \n",
            "4             8th St at Brannan St     4626          2             1994   \n",
            "\n",
            "  user_gender  tire_size  \n",
            "0        Male         26  \n",
            "1        Male         27  \n",
            "2        Male         29  \n",
            "3        Male         26  \n",
            "4        Male         27  \n"
          ]
        }
      ]
    },
    {
      "cell_type": "code",
      "source": [
        "# show how many rows and columns are in this dataset\n",
        "num_rows, num_cols = df.shape\n",
        "print(\"Number of rows:\", num_rows)\n",
        "print(\"Number of columns:\", num_cols)"
      ],
      "metadata": {
        "id": "Lfh8suAyhKQW",
        "outputId": "767b7ae4-4d4a-47a0-e9e8-4f20614d2528",
        "colab": {
          "base_uri": "https://localhost:8080/"
        }
      },
      "execution_count": 3,
      "outputs": [
        {
          "output_type": "stream",
          "name": "stdout",
          "text": [
            "Number of rows: 25760\n",
            "Number of columns: 10\n"
          ]
        }
      ]
    },
    {
      "cell_type": "code",
      "source": [
        "# The first column, \"duration\" is seen as a string.\n",
        "# Using two snippets of code, clean this column up so that\n",
        "# is now an integer (int64)\n",
        "df['duration'] = pd.to_numeric(df['duration'], errors='coerce')\n",
        "df = df.dropna(subset=['duration'])\n",
        "df['duration'] = df['duration'].astype('int64')"
      ],
      "metadata": {
        "id": "KK5-y9nzhMVq"
      },
      "execution_count": 7,
      "outputs": []
    },
    {
      "cell_type": "code",
      "source": [
        "# Now display the datatypes in the updated dataframe\n",
        "print(df.dtypes)"
      ],
      "metadata": {
        "id": "QyGJUshvhz1J",
        "outputId": "48842a5b-919c-41f7-f146-8f325c126c26",
        "colab": {
          "base_uri": "https://localhost:8080/"
        }
      },
      "execution_count": 8,
      "outputs": [
        {
          "output_type": "stream",
          "name": "stdout",
          "text": [
            "duration            int64\n",
            "station_A_id        int64\n",
            "station_A_name     object\n",
            "station_B_id        int64\n",
            "station_B_name     object\n",
            "bike_id             int64\n",
            "user_type           int64\n",
            "user_birth_year     int64\n",
            "user_gender        object\n",
            "tire_size           int64\n",
            "dtype: object\n"
          ]
        }
      ]
    },
    {
      "cell_type": "code",
      "source": [
        "# Show the min and max values of ride durations (the shortest and longest rides)\n",
        "# Hint: If 'df' is the name of your dataframe, simply specify the column name\n",
        "# and then append the .min() or .max() methods.\n",
        "missing_values = df['duration'].isnull().sum()\n",
        "non_numeric_values = df['duration'].apply(lambda x: not isinstance(x, (int, float))).sum()\n",
        "\n",
        "if missing_values > 0:\n",
        "    print(\"Warning: There are\", missing_values, \"missing values in the 'duration' column.\")\n",
        "\n",
        "if non_numeric_values > 0:\n",
        "    print(\"Warning: There are\", non_numeric_values, \"non-numeric values in the 'duration' column.\")\n",
        "\n",
        "# Remove missing and non-numeric values before calculating min and max\n",
        "cleaned_duration = df['duration'].dropna().astype(float)\n",
        "\n",
        "if len(cleaned_duration) == 0:\n",
        "    print(\"Error: There are no valid numeric values in the 'duration' column.\")\n",
        "else:\n",
        "    min_duration = cleaned_duration.min()\n",
        "    max_duration = cleaned_duration.max()\n",
        "\n",
        "    print(\"Minimum ride duration:\", min_duration)\n",
        "    print(\"Maximum ride duration:\", max_duration)"
      ],
      "metadata": {
        "id": "UCA1OswWh5b5",
        "outputId": "ebd49c61-de8c-4d24-9cd1-82e3800bd155",
        "colab": {
          "base_uri": "https://localhost:8080/"
        }
      },
      "execution_count": 13,
      "outputs": [
        {
          "output_type": "stream",
          "name": "stdout",
          "text": [
            "Error: There are no valid numeric values in the 'duration' column.\n"
          ]
        }
      ]
    },
    {
      "cell_type": "code",
      "source": [
        "# Create a new dataframe object and populate it with rides that are 60 minutes or less.\n",
        "# Hint: Use the .query() method for the dataframe that we used in class.\n"
      ],
      "metadata": {
        "id": "K7mStv5kibbA"
      },
      "execution_count": null,
      "outputs": []
    },
    {
      "cell_type": "code",
      "source": [
        "# Now show both the min and max values of the duration column for your new dataset.\n"
      ],
      "metadata": {
        "id": "v63UdQjNi-w5"
      },
      "execution_count": null,
      "outputs": []
    },
    {
      "cell_type": "code",
      "source": [
        "# Using the new dataframe, update it so that is ONLY has records where\n",
        "# the tire_size is 26.\n"
      ],
      "metadata": {
        "id": "xTzb_j9rjGk2"
      },
      "execution_count": null,
      "outputs": []
    },
    {
      "cell_type": "code",
      "source": [
        "# Finally, produce a count of all records with FEMALE riders\n",
        "# using the 26-inch wheeled rental bikes for their rentals of\n",
        "# one hour or less.\n"
      ],
      "metadata": {
        "id": "0cwbfj66jrG9"
      },
      "execution_count": null,
      "outputs": []
    },
    {
      "cell_type": "markdown",
      "source": [
        "2. Find the file `more-messy-data.csv` on GitHub and upload it into Google Colab.\n",
        "\n",
        "Create a new Pandas DataFrame from that data and perform the following steps."
      ],
      "metadata": {
        "id": "YIlxzTRQSrl3"
      }
    },
    {
      "cell_type": "code",
      "source": [
        "# Write a snippet of code that will display the number of duplicate rows exist in the DF.\n"
      ],
      "metadata": {
        "id": "6O1caoy6S82Q"
      },
      "execution_count": null,
      "outputs": []
    },
    {
      "cell_type": "code",
      "source": [
        "# Next, remove all duplicate rows using Python.\n"
      ],
      "metadata": {
        "id": "-pDZ2xA-S8vd"
      },
      "execution_count": null,
      "outputs": []
    },
    {
      "cell_type": "code",
      "source": [
        "# For the FOUR columns involving sepal and petal length and width, update all NaN\n",
        "# values with the column mean.\n"
      ],
      "metadata": {
        "id": "Quf-P7L4S8oh"
      },
      "execution_count": null,
      "outputs": []
    },
    {
      "cell_type": "code",
      "source": [
        "# Find any values in the dataframe that are still missing, and delete them.\n"
      ],
      "metadata": {
        "id": "en_ReYsAS8f-"
      },
      "execution_count": null,
      "outputs": []
    },
    {
      "cell_type": "code",
      "source": [
        "# How many different species are there?\n"
      ],
      "metadata": {
        "id": "uqV9IHwDS75a"
      },
      "execution_count": null,
      "outputs": []
    },
    {
      "cell_type": "code",
      "source": [
        "# Clean up the 'species' variable so that there are exactly three different values.\n"
      ],
      "metadata": {
        "id": "G2j8HDgYT52P"
      },
      "execution_count": null,
      "outputs": []
    },
    {
      "cell_type": "markdown",
      "source": [
        "3. Bonus:  Regular expressions\n",
        "\n",
        "Ordinary (non-vanity) Virginia license plates have the form `ABC1234`, meaning they have three upper case letters followed by four digits.  Write a regular expression that matches any string of this form (and doesn't match anything else).  Test your expression with code to make sure it works.\n",
        "\n",
        "To figure out out how to do this, start with the sample code below.  The `re` package has various functions related to regular expressions, including for example `match()`, which takes two arguments, first the regular expression and second the test string, and tests to see whether the *beginning* of the `test` string matches the pattern `exp`.\n",
        "\n",
        "Note that `re.match(exp,test)` does not return a boolean variable, as you might expect (in other words, a match doesn't return `True` and a non-match `False`).  The type of object you get is called `re.Match`, which is a data type special to the `re` package.  (The reason for this is that the object contains more information than just whether there is a match or not.) However, you can turn it into a boolean using `bool()` if you want.\n",
        "\n",
        "Include the following in the notebook you submit:\n",
        "\n",
        " 1. A regular expression in a text chunk\n",
        " 2. One or more code chunks in which you test several strings to verify that your regex is correct.\n",
        " 3. Make sure you display the results of testing various strings.\n",
        "\n",
        " See this [documentation page](https://docs.python.org/3/howto/regex.html#regex-howto) for further help."
      ],
      "metadata": {
        "id": "CsMBqFDmX7Ax"
      }
    },
    {
      "cell_type": "code",
      "source": [
        "# Sample code for testing whether a string matches a regex\n",
        "\n",
        "# First import this package for working with regular expressions\n",
        "import re\n",
        "\n",
        "# Here is an example.\n",
        "# Play around with different expressions and test strings to see what happens.\n",
        "exp = 'ab+'\n",
        "test = 'aabbbc'\n",
        "\n",
        "if re.match(exp,test):\n",
        "  print(\"match!\")\n",
        "else:\n",
        "  print(\"no match\")\n",
        "\n",
        "# uncomment this line if you want\n",
        "# print(type(re.match(exp,test)))\n",
        "\n",
        "# uncomment this line if you want\n",
        "# print(bool(re.match(exp,test)))"
      ],
      "metadata": {
        "id": "LKbpBAxJZnXp"
      },
      "execution_count": null,
      "outputs": []
    }
  ]
}