{
  "nbformat": 4,
  "nbformat_minor": 0,
  "metadata": {
    "colab": {
      "provenance": [],
      "include_colab_link": true
    },
    "kernelspec": {
      "name": "python3",
      "display_name": "Python 3"
    },
    "language_info": {
      "name": "python"
    }
  },
  "cells": [
    {
      "cell_type": "markdown",
      "metadata": {
        "id": "view-in-github",
        "colab_type": "text"
      },
      "source": [
        "<a href=\"https://colab.research.google.com/github/natewoods1221/Data-Science-1002/blob/main/Assignments/11FINAL_comprehension_and_recursion.ipynb\" target=\"_parent\"><img src=\"https://colab.research.google.com/assets/colab-badge.svg\" alt=\"Open In Colab\"/></a>"
      ]
    },
    {
      "cell_type": "markdown",
      "source": [
        "## Assignment 11\n",
        "Due Monday 15 April at noon"
      ],
      "metadata": {
        "id": "y6mGkyWrqph3"
      }
    },
    {
      "cell_type": "markdown",
      "source": [
        "### List comprehension\n",
        "\n",
        "Many of you resisted my recommendation to use list comprehensions in the previous assignment, and so my hand is forced.  You made me require it.\n",
        "\n",
        "\n",
        "Problem 1.  For each function you write below, you may assume the list being sent to the function will contain the appropriate data type.\n",
        "\n",
        "Use list comprehensions to create a function that will take a list `l` and return . . ."
      ],
      "metadata": {
        "id": "eBJulsWBngse"
      }
    },
    {
      "cell_type": "markdown",
      "source": [
        "(a) . . . a list containing the absolute value of each element of `l`"
      ],
      "metadata": {
        "id": "1h4hKDEqo5T_"
      }
    },
    {
      "cell_type": "code",
      "source": [
        "def absolute_values_list(l):\n",
        "    return [abs(x) for x in l]\n",
        "test_list = [-3, 5, -7, 10]\n",
        "result = absolute_values_list(test_list)\n",
        "print(\"Original list:\", test_list)\n",
        "print(\"Absolute values list:\", result)\n",
        ""
      ],
      "metadata": {
        "id": "LNltsHhtngLS",
        "outputId": "3a7812b1-29ff-4334-d201-651c8f1dec7e",
        "colab": {
          "base_uri": "https://localhost:8080/"
        }
      },
      "execution_count": 8,
      "outputs": [
        {
          "output_type": "stream",
          "name": "stdout",
          "text": [
            "Original list: [-3, 5, -7, 10]\n",
            "Absolute values list: [3, 5, 7, 10]\n"
          ]
        }
      ]
    },
    {
      "cell_type": "markdown",
      "source": [
        "(b) . . . a list containing `True` for each even number in `l` and `False` for each odd number in `l`"
      ],
      "metadata": {
        "id": "mqIbzaTvpLCV"
      }
    },
    {
      "cell_type": "code",
      "source": [
        "def even_odd_boolean_list(l):\n",
        "    return [True if x % 2 == 0 else False for x in l]\n",
        "\n",
        "test_list = [2, 3, 4, 5, 6]\n",
        "\n",
        "result = even_odd_boolean_list(test_list)\n",
        "\n",
        "\n",
        "print(result)"
      ],
      "metadata": {
        "id": "0OTpQFX9pK0t",
        "outputId": "9db8ee39-8694-4ae1-88c5-b71c47b20b1d",
        "colab": {
          "base_uri": "https://localhost:8080/"
        }
      },
      "execution_count": 11,
      "outputs": [
        {
          "output_type": "stream",
          "name": "stdout",
          "text": [
            "[True, False, True, False, True]\n"
          ]
        }
      ]
    },
    {
      "cell_type": "markdown",
      "source": [
        "(c) . . . a list containing only the numbers in `l` that are divisible by 3"
      ],
      "metadata": {
        "id": "9yqVg2hApUY9"
      }
    },
    {
      "cell_type": "code",
      "source": [
        "def divisible_by_3_list(l):\n",
        "    return [x for x in l if x % 3 == 0]\n",
        "test_list = [3, 6, 19, 40, 21]\n",
        "\n",
        "result = divisible_by_3_list(test_list)\n",
        "\n",
        "print(result)"
      ],
      "metadata": {
        "id": "2mP_1aYZpUF4",
        "outputId": "c3b19294-1f26-46b2-9fd4-d5903220e985",
        "colab": {
          "base_uri": "https://localhost:8080/"
        }
      },
      "execution_count": 13,
      "outputs": [
        {
          "output_type": "stream",
          "name": "stdout",
          "text": [
            "[3, 6]\n"
          ]
        }
      ]
    },
    {
      "cell_type": "markdown",
      "source": [
        "(d) . . . a list containing only the words in `l` whose first and last letters are the same"
      ],
      "metadata": {
        "id": "2yClgYZupef1"
      }
    },
    {
      "cell_type": "code",
      "source": [
        "def same_first_last_letters_list(l):\n",
        "    return [word for word in l if len(word) > 1 and word[0] == word[-1]]\n",
        "\n",
        "test_list = [\"radar\", \"level\", \"python\", \"stats\", \"noon\", \"racecar\"]\n",
        "result = same_first_last_letters_list(test_list)\n",
        "print(result)"
      ],
      "metadata": {
        "id": "-l7XnemMpeCi",
        "outputId": "f3c265b1-75ba-425f-f6b4-fda82858d245",
        "colab": {
          "base_uri": "https://localhost:8080/"
        }
      },
      "execution_count": 14,
      "outputs": [
        {
          "output_type": "stream",
          "name": "stdout",
          "text": [
            "['radar', 'level', 'stats', 'noon', 'racecar']\n"
          ]
        }
      ]
    },
    {
      "cell_type": "markdown",
      "source": [
        "(e) . . . a list containing the first letter of each word in `l` that ends with a vowel"
      ],
      "metadata": {
        "id": "1mqMysFKppZS"
      }
    },
    {
      "cell_type": "code",
      "source": [
        "def first_letter_ends_with_vowel_list(l):\n",
        "    vowels = 'aeiouAEIOU'\n",
        "    return [word[0] for word in l if len(word) > 0 and word[-1] in vowels]\n",
        "test_list = [\"apple\", \"banana\", \"orange\", \"python\", \"programming\", \"code\"]\n",
        "result = first_letter_ends_with_vowel_list(test_list)\n",
        "print(result)"
      ],
      "metadata": {
        "id": "1Gi3andbppDc",
        "outputId": "ce893fd2-378e-42e8-ffb2-06a2f306d460",
        "colab": {
          "base_uri": "https://localhost:8080/"
        }
      },
      "execution_count": 15,
      "outputs": [
        {
          "output_type": "stream",
          "name": "stdout",
          "text": [
            "['a', 'b', 'o', 'c']\n"
          ]
        }
      ]
    },
    {
      "cell_type": "markdown",
      "source": [
        "### Multiplication as a recursive process\n",
        "Problem 2.  Write a recursive function that computes the product of two positive integers `a` and `b` by adding `a` to itself `b` times.\n",
        "\n",
        "Hints:  \n",
        "1. if `b=1` then the product is `a`.\n",
        "2. if `b>1` then the product is what you get by adding `a` to `a * (b-1)`.\n",
        "\n",
        "Note:  the purpose of this exercise is to practice writing recursive functions.  Of course you can trivially ask for `a*b` and get the correct answer but that is worth no points.  Your function should not use any multiplications.\n"
      ],
      "metadata": {
        "id": "iV4ysawxjsiE"
      }
    },
    {
      "cell_type": "code",
      "execution_count": 23,
      "metadata": {
        "id": "wc9Y1d7ejrvH",
        "outputId": "0c6b7351-8c5d-4160-fb0e-987a7fc5e811",
        "colab": {
          "base_uri": "https://localhost:8080/"
        }
      },
      "outputs": [
        {
          "output_type": "stream",
          "name": "stdout",
          "text": [
            "Product of 5 and 6 is: 30\n"
          ]
        }
      ],
      "source": [
        "def recursive_product(a, b):\n",
        "    if b == 1:\n",
        "        return a\n",
        "    else:\n",
        "        return a + recursive_product(a, b - 1)\n",
        "\n",
        "\n",
        "a = 5\n",
        "b = 6\n",
        "print(\"Product of\", a, \"and\", b, \"is:\", recursive_product(a, b))"
      ]
    },
    {
      "cell_type": "markdown",
      "source": [
        "### Division as a recursive process\n",
        "\n",
        "Problem 3:  Write a recursive function that takes two positive integers `a` and `b` and returns the quotient `q` and remainder `r` obtained when `a` is divided by `b`.\n",
        "\n",
        "Hints:  \n",
        "1. If `a<b` then what should `q` and `r` be?\n",
        "\n",
        "2. If `a>b` then think about how `q` and `r` are related to the values you would get from dividing `a-b` by `b`."
      ],
      "metadata": {
        "id": "A5xI1LxDkxn0"
      }
    },
    {
      "cell_type": "code",
      "source": [
        "def divide_recursive(a, b):\n",
        "    if a < b:\n",
        "        return 0, a\n",
        "    else:\n",
        "        q, r = divide_recursive(a - b, b)\n",
        "        return q + 1, r\n",
        "a = 23\n",
        "b = 5\n",
        "quotient, remainder = divide_recursive(a, b)\n",
        "print(f\"Quotient: {quotient}, Remainder: {remainder}\")"
      ],
      "metadata": {
        "id": "_3aRmkgJkxUW",
        "outputId": "7117cbac-669a-4b06-a1d9-2efec4f1f390",
        "colab": {
          "base_uri": "https://localhost:8080/"
        }
      },
      "execution_count": 17,
      "outputs": [
        {
          "output_type": "stream",
          "name": "stdout",
          "text": [
            "Quotient: 4, Remainder: 3\n"
          ]
        }
      ]
    },
    {
      "cell_type": "markdown",
      "source": [
        "### The dot product of two vectors\n",
        "\n",
        "Problem 4.  Write a recursive function `dot()` that takes two lists of numbers, of equal length, and returns the sum of the products of the elements of the same index from each list. For example, if `V=[1,2,3]` and `W=[4,5,6]` then the function should return the value $(1 \\cdot 4) + (2\\cdot 5) + (3\\cdot 6)$, which equals 32.  In physics and linear algebra, this is called the \"dot product\" of the vectors `V` and `W`.\n",
        "\n",
        "Other examples:\n",
        "```\n",
        "dot([3],[4])\n",
        "12\n",
        "\n",
        "dot([1,1,0],[2,7,17])\n",
        "9\n",
        "```\n",
        "Hints:\n",
        "1. How is `dot(V,W)` related to `dot(V[1:],W[1:])`?\n",
        "2. What should happen if the lists are empty?"
      ],
      "metadata": {
        "id": "OkBK7gvglJ3u"
      }
    },
    {
      "cell_type": "code",
      "source": [
        "def dot(V, W):\n",
        "\n",
        "    if not V or not W:\n",
        "        return 0\n",
        "\n",
        "    else:\n",
        "        return V[0] * W[0] + dot(V[1:], W[1:])\n",
        "\n",
        "\n",
        "V = [1, 2, 3]\n",
        "W = [4, 5, 6]\n",
        "result = dot(V, W)\n",
        "print(\"Dot product:\", result)"
      ],
      "metadata": {
        "id": "LZXs6lkslJqm",
        "outputId": "c952eee5-944f-493c-9bf3-ebf6401ecfc4",
        "colab": {
          "base_uri": "https://localhost:8080/"
        }
      },
      "execution_count": 21,
      "outputs": [
        {
          "output_type": "stream",
          "name": "stdout",
          "text": [
            "Dot product: 32\n"
          ]
        }
      ]
    }
  ]
}