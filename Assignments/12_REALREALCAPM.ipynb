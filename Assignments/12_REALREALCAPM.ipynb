{
  "cells": [
    {
      "cell_type": "markdown",
      "metadata": {
        "id": "view-in-github",
        "colab_type": "text"
      },
      "source": [
        "<a href=\"https://colab.research.google.com/github/natewoods1221/Data-Science-1002/blob/main/Assignments/12_REALREALCAPM.ipynb\" target=\"_parent\"><img src=\"https://colab.research.google.com/assets/colab-badge.svg\" alt=\"Open In Colab\"/></a>"
      ]
    },
    {
      "cell_type": "markdown",
      "metadata": {
        "id": "Pz4oXuFbf1pe"
      },
      "source": [
        "## Capital Asset Pricing Model (CAPM)\n",
        "\n",
        "### Assignment due Monday 22 April at noon\n",
        "\n",
        "---"
      ]
    },
    {
      "cell_type": "markdown",
      "metadata": {
        "id": "K-eHlG5gf1pf"
      },
      "source": [
        "### Objectives\n",
        "\n",
        "This assignment is primarily meant to refresh your numpy and pandas skills.  \n",
        "Technical objectives are discussed below.  \n",
        "\n",
        "- All the usual rules apply:  you may work together (groups of at most 3), make sure all names are easy to find at the top of the submission, submit the link to your working colab notebook\n",
        "\n",
        "\n",
        "### Background\n",
        "\n",
        "In finance, CAPM is a single-factor regression model used for analyzing (and predicting) excess stock returns. There are better, more accurate models, but it has its uses. For example, the *market beta* is a useful output which has something to do with the risk of particular investments.\n",
        "\n",
        "1.  Read [this brief synopsis](https://en.wikipedia.org/wiki/Capital_asset_pricing_model) of CAPM.\n",
        "\n",
        "\n",
        "Don't worry if you don't understand all the terminology.\n",
        "Look for a moment at the main formula (in the \"Formula\" section).  For us that formula will look like this:\n",
        "\n",
        "\\begin{aligned}\n",
        "E(R_A) = R_f + \\beta_A (E(R_{SP}) - R_f)\n",
        "\\end{aligned}\n",
        "\n",
        "Some notes on the symbols in this formula:\n",
        "- The formula is used to estimate $E(R_A)$.  The $E$ here stands for the expected value, and $R_A$ is the rate of return of the investment $A$.\n",
        "- To use this formula, you therefore need to know the values of the other variables.\n",
        "- The variable $R_f$ is the \"risk-free rate,\" which is the amount of return you can get on an investment that has zero risk, like say a bank account.\n",
        "This quantity changes over time but for our purposes we can treat it as a constant.  It is hard-coded into the code below.  Make sure you see where this variable occurs in the formula above.\n",
        "- In this assignment the variable $R_{SP}$ is a measure of the rate of return of the overall market.  (The $E$ on the right side also means expected value.)\n",
        "- The variable $\\beta_A$ measures something about the relative risk of the investment A, relative to the overall market.  The technical objective of this assignment will be to compute $\\beta_A$ below, and then to examine how sensitive it is to the specific data.\n",
        "- The value you get for $\\beta_A$ will be a number.  If it is greater than 1, it means (*very roughly*) that the investment A is more volatile than the overall market.  If it is less than 1, it means that the investment is less volatile than the overall market.  But **do not take this too seriously!** In particular see all the caveats at the wikipedia page.\n",
        "- The A investment in our example is an individual stock (Apple).\n",
        "\n"
      ]
    },
    {
      "cell_type": "markdown",
      "metadata": {
        "id": "bHqzHCZnf1pg"
      },
      "source": [
        "2.  Load the packages and data.  (Note that the following code chunk also hard-codes the constant $R_f$.)  \n",
        "The data lives in the file `capm_market_data` in the `data` folder on the `GitHub` site."
      ]
    },
    {
      "cell_type": "code",
      "execution_count": 16,
      "metadata": {
        "id": "iRPr8YvJf1pg",
        "colab": {
          "base_uri": "https://localhost:8080/"
        },
        "outputId": "c538b106-1cd2-42d6-eb60-fdf1e4a4ee80"
      },
      "outputs": [
        {
          "output_type": "stream",
          "name": "stdout",
          "text": [
            "         date  spy_adj_close  aapl_adj_close\n",
            "0  2020-01-02     321.555786      298.829956\n",
            "1  2020-01-03     319.120911      295.924713\n",
            "2  2020-01-06     320.338379      298.282715\n",
            "3  2020-01-07     319.437653      296.879883\n",
            "4  2020-01-08     321.140106      301.655548\n"
          ]
        }
      ],
      "source": [
        "# load numpy and pandas packages\n",
        "import numpy as np\n",
        "import pandas as pd\n",
        "\n",
        "# get data\n",
        "df = pd.read_csv('/content/capm_market_data (1).csv')\n",
        "print(df.head())\n",
        "\n",
        "# risk-free Treasury rate\n",
        "R_f = 0.0175 / 252"
      ]
    },
    {
      "cell_type": "markdown",
      "metadata": {
        "id": "PLXAZx6xf1ph"
      },
      "source": [
        "3.  Look at some records.  \n",
        "SPY is something that mirrors the S&P 500 (\"the market\").  \n",
        "AAPL is the code for Apple stock.  \n",
        "The values are closing prices, adjusted for splits and dividends."
      ]
    },
    {
      "cell_type": "markdown",
      "metadata": {
        "id": "y8uzBoHpf1ph"
      },
      "source": [
        "4.  Drop the date column"
      ]
    },
    {
      "cell_type": "code",
      "execution_count": 17,
      "metadata": {
        "id": "1rUGRXnQf1ph",
        "colab": {
          "base_uri": "https://localhost:8080/"
        },
        "outputId": "b9069bb9-6e6f-4062-9f20-abd8acc81c31"
      },
      "outputs": [
        {
          "output_type": "stream",
          "name": "stdout",
          "text": [
            "   spy_adj_close  aapl_adj_close\n",
            "0     321.555786      298.829956\n",
            "1     319.120911      295.924713\n",
            "2     320.338379      298.282715\n",
            "3     319.437653      296.879883\n",
            "4     321.140106      301.655548\n"
          ]
        }
      ],
      "source": [
        "df.drop(columns=['date'], inplace=True)\n",
        "print(df.head())\n"
      ]
    },
    {
      "cell_type": "markdown",
      "metadata": {
        "id": "fyE1w8F2f1ph"
      },
      "source": [
        "5.  Compute daily returns (percentage changes in price) for both SPY and AAPL.\n",
        "(Be sure to drop the first row of NaN.)  \n",
        "Hint: pandas has functions to easily do this.  \n",
        "Print the first 5 rows of returns.\n"
      ]
    },
    {
      "cell_type": "code",
      "execution_count": 30,
      "metadata": {
        "id": "8aCLOA08f1pi",
        "colab": {
          "base_uri": "https://localhost:8080/"
        },
        "outputId": "1e554f92-efae-45b8-ce8e-5054a0ccf308"
      },
      "outputs": [
        {
          "output_type": "stream",
          "name": "stdout",
          "text": [
            "SPY Returns:\n",
            "1   -0.007572\n",
            "2    0.003815\n",
            "3   -0.002812\n",
            "4    0.005330\n",
            "5    0.006781\n",
            "Name: spy_adj_close, dtype: float64\n",
            "AAPL Returns:\n",
            "1   -0.009722\n",
            "2    0.007968\n",
            "3   -0.004703\n",
            "4    0.016086\n",
            "5    0.021241\n",
            "Name: aapl_adj_close, dtype: float64\n"
          ]
        }
      ],
      "source": [
        "spy_returns = df['spy_adj_close'].pct_change()\n",
        "aapl_returns = df['aapl_adj_close'].pct_change()\n",
        "\n",
        "spy_returns = spy_returns.dropna()\n",
        "aapl_returns = aapl_returns.dropna()\n",
        "\n",
        "print(\"SPY Returns:\")\n",
        "print(spy_returns.head())\n",
        "\n",
        "print(\"AAPL Returns:\")\n",
        "print(aapl_returns.head())"
      ]
    },
    {
      "cell_type": "markdown",
      "metadata": {
        "id": "qA51CJQUf1pi"
      },
      "source": [
        "6.  Save the SPY and AAPL returns into separate numpy arrays.  \n",
        "Print the first five values from each of the two arrays.\n"
      ]
    },
    {
      "cell_type": "code",
      "execution_count": 19,
      "metadata": {
        "id": "uTx4aa7of1pi",
        "colab": {
          "base_uri": "https://localhost:8080/"
        },
        "outputId": "d270be24-e2e5-49d7-c4e9-f42d1c25a144"
      },
      "outputs": [
        {
          "output_type": "stream",
          "name": "stdout",
          "text": [
            "First five values of SPY returns array:\n",
            "[-0.00757217  0.00381507 -0.0028118   0.00532953  0.00678059]\n",
            "\n",
            "First five values of AAPL returns array:\n",
            "[-0.00972206  0.00796825 -0.00470303  0.01608619  0.02124092]\n"
          ]
        }
      ],
      "source": [
        "spy_returns_array = spy_returns.to_numpy()\n",
        "aapl_returns_array = aapl_returns.to_numpy()\n",
        "\n",
        "print(\"First five values of SPY returns array:\")\n",
        "print(spy_returns_array[:5])\n",
        "\n",
        "print(\"\\nFirst five values of AAPL returns array:\")\n",
        "print(aapl_returns_array[:5])"
      ]
    },
    {
      "cell_type": "markdown",
      "metadata": {
        "id": "SO4C0unXf1pi"
      },
      "source": [
        "7.  Make arrays (one for SPY, one for AAPL) containing the *excess* returns by subtracting the constant $R_f$ from the returns.  \n",
        "(Recall that $R_f$ is the \"risk-free rate\" meaning essentially that you could earn this much in interest if you didn't invest in anything.)  \n",
        "Print the LAST five excess returns from both SPY and AAPL numpy arrays."
      ]
    },
    {
      "cell_type": "code",
      "execution_count": 25,
      "metadata": {
        "id": "o8XOunw5f1pi",
        "colab": {
          "base_uri": "https://localhost:8080/"
        },
        "outputId": "38f9ffeb-c242-4a68-9bb6-8ea5c3916668"
      },
      "outputs": [
        {
          "output_type": "stream",
          "name": "stdout",
          "text": [
            "Last five excess returns of SPY:\n",
            "[-0.02569292 -0.00978945 -0.02865896 -0.00704098 -0.01081277]\n",
            "\n",
            "Last five excess returns of AAPL:\n",
            "[-0.01569968 -0.01825074 -0.02461319 -0.00345158 -0.01312268]\n"
          ]
        }
      ],
      "source": [
        "spy_excess_returns = spy_returns_array - Rf\n",
        "aapl_excess_returns = aapl_returns_array - Rf\n",
        "\n",
        "print(\"Last five excess returns of SPY:\")\n",
        "print(spy_excess_returns[-5:])\n",
        "\n",
        "print(\"\\nLast five excess returns of AAPL:\")\n",
        "print(aapl_excess_returns[-5:])"
      ]
    },
    {
      "cell_type": "markdown",
      "metadata": {
        "id": "-DUdB1GGf1pi"
      },
      "source": [
        "8. Make a scatterplot with SPY excess returns on the $x$-axis and AAPL excess returns on the $y$-axis.  \n",
        "If you need it, here is the [Matplotlib documentation]( https://matplotlib.org/stable/api/_as_gen/matplotlib.pyplot.scatter.html)."
      ]
    },
    {
      "cell_type": "code",
      "execution_count": 23,
      "metadata": {
        "id": "ucDTjQOmf1pi",
        "colab": {
          "base_uri": "https://localhost:8080/",
          "height": 564
        },
        "outputId": "240bcc41-98d0-4daf-c5d5-d04dc7348ad8"
      },
      "outputs": [
        {
          "output_type": "display_data",
          "data": {
            "text/plain": [
              "<Figure size 800x600 with 1 Axes>"
            ],
            "image/png": "[encoded data removed]"
          },
          "metadata": {}
        }
      ],
      "source": [
        "import matplotlib.pyplot as plt\n",
        "\n",
        "\n",
        "plt.figure(figsize=(8, 6))\n",
        "plt.scatter(spy_excess_returns, aapl_excess_returns, color='red', alpha=0.6)\n",
        "\n",
        "\n",
        "plt.title('SPY Excess Returns vs AAPL Excess Returns')\n",
        "plt.xlabel('SPY Excess Returns')\n",
        "plt.ylabel('AAPL Excess Returns')\n",
        "\n",
        "\n",
        "plt.grid(True)\n",
        "\n",
        "\n",
        "plt.show()"
      ]
    },
    {
      "cell_type": "markdown",
      "metadata": {
        "id": "LCJPl-d9f1pi"
      },
      "source": [
        "The value of $\\beta_A$ is computed from the arrays you built in problem 7, via a formula that uses some statistical functions called the \"variance\" and the \"covariance.\"\n",
        "\n",
        "Any individual 1-d array of numbers has a variance, which you can compute using `numpy`'s function `var()` (documented [here](https://numpy.org/doc/stable/reference/generated/numpy.var.html)).  This is a number.\n",
        "\n",
        "If you have two 1-d arrays of the same length, they collectively have something called a covariance which `numpy` also can compute using `cov()` (documented [here](https://numpy.org/doc/stable/reference/generated/numpy.cov.html)).\n",
        "\n",
        "The covariance is also a number, but look at what happens when you send two 1-d arrays to `cov()`: it returns a $2\\times 2$ matrix.  (Try it!)  The covariance we are looking for is the number that lives in both the top right and the bottom left of this matrix.  (Those two numbers should be the same.)  The top left and bottom right entries of the covariance matrix also have meaning, but we don't need them.\n",
        "\n"
      ]
    },
    {
      "cell_type": "markdown",
      "source": [
        "9. Use `numpy` functions as described above to compute the estimate of $\\beta_A$, using the following formula:  \n",
        "\\begin{aligned} \\beta_A= \\frac{ \\text{cov}(A,SP) }{ \\text{var}(SP) } \\end{aligned}\n",
        "In our context, A will be the 1-d array you made in problem 7 for AAPL, and SP will be the 1-d array you made for SPY."
      ],
      "metadata": {
        "id": "bb0j7Vi7quGp"
      }
    },
    {
      "cell_type": "code",
      "execution_count": 27,
      "metadata": {
        "id": "blGso0pMf1pj",
        "colab": {
          "base_uri": "https://localhost:8080/"
        },
        "outputId": "e65cdb9a-f7ed-49d9-bc6e-99130469f64e"
      },
      "outputs": [
        {
          "output_type": "stream",
          "name": "stdout",
          "text": [
            "Estimated beta_A: 1.095617264419722\n"
          ]
        }
      ],
      "source": [
        "covariance_matrix = np.cov(aapl_excess_returns, spy_excess_returns)\n",
        "\n",
        "\n",
        "covariance = covariance_matrix[0, 1]\n",
        "\n",
        "\n",
        "spy_variance = np.var(spy_excess_returns)\n",
        "\n",
        "beta_A = covariance / spy_variance\n",
        "\n",
        "print(\"Estimated beta_A:\", beta_A)"
      ]
    },
    {
      "cell_type": "markdown",
      "metadata": {
        "id": "02POpgABf1pj"
      },
      "source": [
        "You should have found that the beta estimate is greater than one.  \n",
        "This means that the volatility of AAPL stock, given the data, and according to this particular (flawed) model,\n",
        "is higher than the volatility of the S&P 500.\n",
        "\n",
        "Bonus:  Is this something you can see on the plot you made?\n",
        "\n"
      ]
    },
    {
      "cell_type": "markdown",
      "source": [],
      "metadata": {
        "id": "aeLasrWag1S4"
      }
    },
    {
      "cell_type": "markdown",
      "metadata": {
        "id": "5jCGs8igf1pj"
      },
      "source": [
        "Finally, let's look at how sensitive the beta is to each data point.   \n",
        "We want to drop each data point (one at a time), compute \\\\(\\hat\\beta_i\\\\) using our formula from above, and save each measurement.\n",
        "\n",
        "This is called *jackknifing*.\n",
        "\n"
      ]
    },
    {
      "cell_type": "markdown",
      "source": [
        "10. Write a function called `beta_sensitivity()` with these specs:\n",
        "\n",
        "- take numpy arrays `x` and `y` as inputs\n",
        "- outputs a list of tuples, so that each tuple contains (observation row dropped, beta estimate)\n",
        "\n",
        "Hint: **np.delete(x, i).reshape(-1,1)** will delete observation i from array x, and make it a column vector"
      ],
      "metadata": {
        "id": "VhlkawRDeV8Z"
      }
    },
    {
      "cell_type": "code",
      "execution_count": 28,
      "metadata": {
        "id": "LyT1XSF8f1pj",
        "colab": {
          "base_uri": "https://localhost:8080/"
        },
        "outputId": "6de9d0a6-cc46-4e04-ed10-0e0bd5f8cdc9"
      },
      "outputs": [
        {
          "output_type": "stream",
          "name": "stdout",
          "text": [
            "[(0, 1.0953845500804957), (1, 1.095618983478552), (2, 1.095555855660709), (3, 1.0952630299046582), (4, 1.0949054764016837), (5, 1.09578886233597), (6, 1.0948925461451775), (7, 1.0954060132439707), (8, 1.0958504733995793), (9, 1.0955676643922245), (10, 1.095522630756034), (11, 1.0955167293082573), (12, 1.0956827193376533), (13, 1.095667729356666), (14, 1.096125081829731), (15, 1.09329618047602), (16, 1.094143130486898), (17, 1.095923435584647), (18, 1.0958882306772804), (19, 1.090571966269314), (20, 1.096617364613201), (21, 1.0934857099235793), (22, 1.0964285556445765), (23, 1.095497389928883), (24, 1.0950973493407097), (25, 1.0960788561048567), (26, 1.0958188603863006), (27, 1.0947671044525782), (28, 1.0955591643761426), (29, 1.0957246092807273), (30, 1.095143637017769), (31, 1.0953547263031709), (32, 1.095314423771075), (33, 1.094190108859983), (34, 1.0909525280287262), (35, 1.0947126657767698), (36, 1.0964195583594856), (37, 1.0868133375174482), (38, 1.0957672244521741), (39, 1.075938883456627), (40, 1.0948555623218879), (41, 1.0963063433950366), (42, 1.096237379021417), (43, 1.0961293132191527), (44, 1.0988779179750194), (45, 1.0882791711910191), (46, 1.1040494107723524), (47, 1.0991386641316485), (48, 1.0723147973734974), (49, 1.080530436559961), (50, 1.1052508606001916), (51, 1.1110133818654968), (52, 1.0958961608960835), (53, 1.0871406248841535), (54, 1.0968729851603682), (55, 1.0959979556101143), (56, 1.0992722907616834), (57, 1.103699386420622), (58, 1.0921965194705203), (59, 1.0986443677251574), (60, 1.0975775140417037), (61, 1.0929191428518223), (62, 1.098146947055886), (63, 1.0955617916782168), (64, 1.086987729187284), (65, 1.0957766878298447), (66, 1.1001731893597184), (67, 1.0974292021589007), (68, 1.0983641519008898), (69, 1.0907533203985251), (70, 1.098329449387381), (71, 1.0956524811068835), (72, 1.1081077047197976), (73, 1.0949899896224644), (74, 1.095676960788574), (75, 1.0951037817753482), (76, 1.0956518082177606), (77, 1.0940596122022226), (78, 1.0981502525688338), (79, 1.0949973041710992), (80, 1.095074958163032), (81, 1.0985811626314865), (82, 1.09861967652574), (83, 1.0954582242169848), (84, 1.0954197055528203), (85, 1.0968257354246318), (86, 1.0962677914193617), (87, 1.0950636498651651), (88, 1.0957031340161976), (89, 1.0973841076649047), (90, 1.096618891972725), (91, 1.0967510417101607), (92, 1.09624411270127), (93, 1.0993236030259896), (94, 1.096038283095423), (95, 1.0958744274359806), (96, 1.0955246969679937), (97, 1.095643913869916), (98, 1.0984189715016688), (99, 1.0977612256126832), (100, 1.0956867842165288), (101, 1.09601179419071), (102, 1.0954612470280836), (103, 1.0962066453608519), (104, 1.0971545952225568), (105, 1.09543599894054), (106, 1.0960723012631), (107, 1.0968057541876213), (108, 1.0987074813595255), (109, 1.0974980086327322), (110, 1.1034407276672804), (111, 1.0964556445562232), (112, 1.0956699549341968), (113, 1.0950062813010277), (114, 1.095726299063725), (115, 1.0956793389706503), (116, 1.0955780051502446), (117, 1.094619428006053), (118, 1.0950613703770125), (119, 1.0978154059334262), (120, 1.0957321267151872), (121, 1.0939293645094628), (122, 1.0949492129806198), (123, 1.0966642989008735), (124, 1.0964712738404934), (125, 1.09610648705269), (126, 1.0944615099657937), (127, 1.0963392647732118), (128, 1.094717812701045), (129, 1.0962022254911756), (130, 1.096839480959878), (131, 1.0959291565666778), (132, 1.0956349855885874), (133, 1.0961529721100118)]\n"
          ]
        }
      ],
      "source": [
        "def beta_sensitivity(x, y):\n",
        "    sensitivity = []\n",
        "    n = len(x)\n",
        "\n",
        "    original_covariance = np.cov(x, y)[0, 1]\n",
        "    original_variance = np.var(x)\n",
        "    original_beta = original_covariance / original_variance\n",
        "\n",
        "\n",
        "    for i in range(n):\n",
        "\n",
        "        x_modified = np.delete(x, i).reshape(-1, 1)\n",
        "        y_modified = np.delete(y, i)\n",
        "\n",
        "\n",
        "        covariance = np.cov(x_modified.flatten(), y_modified)[0, 1]\n",
        "        variance = np.var(x_modified.flatten())\n",
        "        beta_estimate = covariance / variance\n",
        "\n",
        "\n",
        "        sensitivity.append((i, beta_estimate))\n",
        "\n",
        "    return sensitivity\n",
        "\n",
        "\n",
        "sensitivity = beta_sensitivity(spy_excess_returns, aapl_excess_returns)\n",
        "print(sensitivity)"
      ]
    },
    {
      "cell_type": "markdown",
      "metadata": {
        "id": "L9u4bfjtf1pj"
      },
      "source": [
        "11. Call `beta_sensitivity()` on the arrays A and SP from earlier and print the first ten tuples of output."
      ]
    },
    {
      "cell_type": "code",
      "execution_count": 29,
      "metadata": {
        "id": "vaz9ozp6f1pj",
        "colab": {
          "base_uri": "https://localhost:8080/"
        },
        "outputId": "f9dcfcf2-e7c0-48dd-bfb0-cddc8f97b224"
      },
      "outputs": [
        {
          "output_type": "stream",
          "name": "stdout",
          "text": [
            "First ten tuples of output:\n",
            "(0, 0.7780271291138472)\n",
            "(1, 0.7779227611028061)\n",
            "(2, 0.7780186010891412)\n",
            "(3, 0.7784391413984394)\n",
            "(4, 0.7789941470436158)\n",
            "(5, 0.7778864515205234)\n",
            "(6, 0.7790012519236995)\n",
            "(7, 0.7791198704459661)\n",
            "(8, 0.7782475196059937)\n",
            "(9, 0.7778763569006099)\n"
          ]
        }
      ],
      "source": [
        "sensitivity = beta_sensitivity(aapl_excess_returns, spy_excess_returns)\n",
        "\n",
        "print(\"First ten tuples of output:\")\n",
        "for i in range(10):\n",
        "    print(sensitivity[i])"
      ]
    }
  ],
  "metadata": {
    "kernelspec": {
      "display_name": "Python 3.8.9 64-bit",
      "language": "python",
      "name": "python3"
    },
    "language_info": {
      "codemirror_mode": {
        "name": "ipython",
        "version": 3
      },
      "file_extension": ".py",
      "mimetype": "text/x-python",
      "name": "python",
      "nbconvert_exporter": "python",
      "pygments_lexer": "ipython3",
      "version": "3.8.9"
    },
    "vscode": {
      "interpreter": {
        "hash": "31f2aee4e71d21fbe5cf8b01ff0e069b9275f58929596ceb00d14d90e3e16cd6"
      }
    },
    "colab": {
      "provenance": [],
      "include_colab_link": true
    }
  },
  "nbformat": 4,
  "nbformat_minor": 0
}