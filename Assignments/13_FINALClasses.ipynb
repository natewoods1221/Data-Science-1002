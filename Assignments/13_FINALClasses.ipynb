{
  "nbformat": 4,
  "nbformat_minor": 0,
  "metadata": {
    "colab": {
      "provenance": [],
      "include_colab_link": true
    },
    "kernelspec": {
      "name": "python3",
      "display_name": "Python 3"
    },
    "language_info": {
      "name": "python"
    }
  },
  "cells": [
    {
      "cell_type": "markdown",
      "metadata": {
        "id": "view-in-github",
        "colab_type": "text"
      },
      "source": [
        "<a href=\"https://colab.research.google.com/github/natewoods1221/Data-Science-1002/blob/main/Assignments/13_FINALClasses.ipynb\" target=\"_parent\"><img src=\"https://colab.research.google.com/assets/colab-badge.svg\" alt=\"Open In Colab\"/></a>"
      ]
    },
    {
      "cell_type": "markdown",
      "source": [
        "## Assignment:  Classes\n",
        "### Due Sunday 28 April at 10pm"
      ],
      "metadata": {
        "id": "5Vy93BSp9Tum"
      }
    },
    {
      "cell_type": "markdown",
      "source": [
        "1.  Define a class called `Person` that has attributes `lastName`, `firstName`, `mother`, and `father`.  Both `mother` and `father` should have default value `unknown`.\n",
        "\n",
        "  Include a `__str__()` function that returns a string of the form '`firstName` `lastName`'.\n",
        "\n",
        "  Include a `__repr__()` function that returns a string that can be evaluated to recreate the `Person` object.\n",
        "\n"
      ],
      "metadata": {
        "id": "vcj5XQAI9Wsb"
      }
    },
    {
      "cell_type": "code",
      "source": [
        " class Person:\n",
        "    def __init__(self, lastName, firstName, mother='unknown', father='unknown'):\n",
        "        self.lastName = lastName\n",
        "        self.firstName = firstName\n",
        "        self.mother = mother\n",
        "        self.father = father\n",
        "\n",
        "    def __str__(self):\n",
        "        return f'{self.firstName} {self.lastName}'\n",
        "\n",
        "    def __repr__(self):\n",
        "        return f\"Person('{self.lastName}', '{self.firstName}', '{self.mother}', '{self.father}')\"\n"
      ],
      "metadata": {
        "id": "mjHDwHv3EpVe"
      },
      "execution_count": null,
      "outputs": []
    },
    {
      "cell_type": "markdown",
      "source": [
        "Create a person (i.e., a `Person` object) called `p` with unknown parents.  (You will need to give your person a first and last name.) Check the type of `p`.  Include all inputs and outputs."
      ],
      "metadata": {
        "id": "-ppMsEIVHINl"
      }
    },
    {
      "cell_type": "code",
      "source": [
        "p = Person('chuck', 'buck')\n",
        "print(\"Type of p:\", type(p))"
      ],
      "metadata": {
        "id": "5bwid_6gHIBH",
        "outputId": "ff09b164-8b9b-40dd-f6b3-dd2eb4412762",
        "colab": {
          "base_uri": "https://localhost:8080/"
        }
      },
      "execution_count": 7,
      "outputs": [
        {
          "output_type": "stream",
          "name": "stdout",
          "text": [
            "Type of p: <class '__main__.Person'>\n"
          ]
        }
      ]
    },
    {
      "cell_type": "markdown",
      "source": [
        "Verify that your `__str__` and `__repr__` functions are doing what they are supposed to do.  Include all inputs and outputs."
      ],
      "metadata": {
        "id": "Z6zlUC3xRtal"
      }
    },
    {
      "cell_type": "code",
      "source": [
        "print(\"__str__() result:\", str(p))\n",
        "print(\"__repr__() result:\", repr(p))"
      ],
      "metadata": {
        "id": "jZO0dBQYRs-K",
        "outputId": "be3e5932-e05b-4ae5-bab3-07f30c5c3a80",
        "colab": {
          "base_uri": "https://localhost:8080/"
        }
      },
      "execution_count": 8,
      "outputs": [
        {
          "output_type": "stream",
          "name": "stdout",
          "text": [
            "__str__() result: buck chuck\n",
            "__repr__() result: Person('chuck', 'buck', 'unknown', 'unknown')\n"
          ]
        }
      ]
    },
    {
      "cell_type": "markdown",
      "source": [
        "Suppose the mother of `p` has been found and is named Taylor Swift.  Create a new person named Taylor Swift, and make her the mother of `p`:\n",
        "\n",
        "```\n",
        "> p.mother\n",
        "'Taylor Swift'\n",
        "```"
      ],
      "metadata": {
        "id": "1mOAThQiHzoQ"
      }
    },
    {
      "cell_type": "code",
      "source": [
        "class Person:\n",
        "    def __init__(self, lastName, firstName, mother='unknown', father='unknown'):\n",
        "        self.lastName = lastName\n",
        "        self.firstName = firstName\n",
        "        self.mother = mother\n",
        "        self.father = father\n",
        "\n",
        "    def __str__(self):\n",
        "        return f'{self.firstName} {self.lastName}'\n",
        "\n",
        "    def __repr__(self):\n",
        "        return f\"Person('{self.lastName}', '{self.firstName}', '{self.mother}', '{self.father}')\"\n",
        "\n",
        "taylor_swift = Person('Swift', 'Taylor')\n",
        "\n",
        "p = Person('chuck', 'buck', mother=taylor_swift)\n",
        "\n",
        "print(\"p.mother:\", p.mother)"
      ],
      "metadata": {
        "id": "NYbDOorpHymz",
        "outputId": "ec78c14a-110a-4e25-f925-edeef6a2e60d",
        "colab": {
          "base_uri": "https://localhost:8080/"
        }
      },
      "execution_count": 10,
      "outputs": [
        {
          "output_type": "stream",
          "name": "stdout",
          "text": [
            "p.mother: Taylor Swift\n"
          ]
        }
      ]
    },
    {
      "cell_type": "markdown",
      "source": [
        "2.  Add some methods to your class.  Start by copying the `class` definition you already wrote.  Then, inside the `class` definition:\n",
        "\n",
        "  (a) Write a method called `unknownParent()` which returns `True` if any parent is 'unknown' and `False` otherwise.\n",
        "\n",
        "  (b) Write a method called `maternalGrandmother()` which returns the mother's mother.  If the mother is unknown, it should return 'unknown'.\n",
        "\n"
      ],
      "metadata": {
        "id": "1g1pcrmFHzGh"
      }
    },
    {
      "cell_type": "code",
      "source": [
        " class Person:\n",
        "    def __init__(self, lastName, firstName, mother='unknown', father='unknown'):\n",
        "        self.lastName = lastName\n",
        "        self.firstName = firstName\n",
        "        self.mother = mother\n",
        "        self.father = father\n",
        "\n",
        "    def __str__(self):\n",
        "        return f'{self.firstName} {self.lastName}'\n",
        "\n",
        "    def __repr__(self):\n",
        "        return f\"Person('{self.lastName}', '{self.firstName}', '{self.mother}', '{self.father}')\"\n",
        "\n",
        "    def unknownParent(self):\n",
        "        return self.mother == 'unknown' or self.father == 'unknown'\n",
        "\n",
        "    def maternalGrandmother(self):\n",
        "        if self.mother == 'unknown':\n",
        "            return 'unknown'\n",
        "        elif self.mother == None:\n",
        "            return None\n",
        "        else:\n",
        "            return self.mother.mother\n",
        "\n",
        "p = Person('chuck', 'buck')\n",
        "\n",
        "print(\"Is any parent unknown for p?\", p.unknownParent())\n",
        "\n",
        "taylor_swift = Person('Swift', 'Taylor')\n",
        "\n",
        "p.mother = taylor_swift\n",
        "\n",
        "print(\"Maternal grandmother of p:\", p.maternalGrandmother())"
      ],
      "metadata": {
        "id": "7mIxJGwwKTpv",
        "outputId": "0b92f4cd-e3ab-4cd6-bb66-1f5d8cf8b2cc",
        "colab": {
          "base_uri": "https://localhost:8080/"
        }
      },
      "execution_count": 14,
      "outputs": [
        {
          "output_type": "stream",
          "name": "stdout",
          "text": [
            "Is any parent unknown for p? True\n",
            "Maternal grandmother of p: unknown\n"
          ]
        }
      ]
    },
    {
      "cell_type": "markdown",
      "source": [
        "Create enough `Person` objects to test whether your methods are working properly.  Show all your inputs and outputs.  It is up to you to demonstrate that you have thoroughly tested the code.  You may use additional code and/or text chunks if it helps."
      ],
      "metadata": {
        "id": "l9-4gxd8FxAQ"
      }
    },
    {
      "cell_type": "code",
      "source": [
        "mother = Person('Swift', 'Taylor')\n",
        "father = Person('Swift', 'Brad')\n",
        "\n",
        "\n",
        "child = Person('Swift', 'Cooper', mother=mother, father=father)\n",
        "\n",
        "\n",
        "print(\"Is any parent unknown for Cooper?\", child.unknownParent())\n",
        "\n",
        "print(\"Maternal grandmother of Cooper:\", child.maternalGrandmother())"
      ],
      "metadata": {
        "id": "WOeSfXvUkxZc",
        "outputId": "8d578d21-e63a-489a-c513-51da93ae5114",
        "colab": {
          "base_uri": "https://localhost:8080/"
        }
      },
      "execution_count": 20,
      "outputs": [
        {
          "output_type": "stream",
          "name": "stdout",
          "text": [
            "Is any parent unknown for Cooper? False\n",
            "Maternal grandmother of Cooper: unknown\n"
          ]
        }
      ]
    },
    {
      "cell_type": "code",
      "source": [
        "taylor_swift = Person('Swift', 'Taylor')\n",
        "\n",
        "\n",
        "Eliza = Person('boston', 'Eliza', mother=taylor_swift)\n",
        "Jenna = Person('boston', 'Jenna', mother=Eliza)\n",
        "\n",
        "\n",
        "print(\"Is any parent unknown for Eliza?\", Eliza.unknownParent())\n",
        "print(\"Is any parent unknown for Jenna?\", Jenna.unknownParent())\n",
        "\n",
        "print(\"Maternal grandmother of Eliza:\", Eliza.maternalGrandmother())\n",
        "print(\"Maternal grandmother of Jenna:\", Jenna.maternalGrandmother())"
      ],
      "metadata": {
        "id": "PMcZfejljpwH",
        "outputId": "7a86b324-ebb0-4646-a0b6-c42cbe388e31",
        "colab": {
          "base_uri": "https://localhost:8080/"
        }
      },
      "execution_count": 18,
      "outputs": [
        {
          "output_type": "stream",
          "name": "stdout",
          "text": [
            "Is any parent unknown for Eliza? True\n",
            "Is any parent unknown for Jenna? True\n",
            "Maternal grandmother of Eliza: unknown\n",
            "Maternal grandmother of Jenna: Taylor Swift\n"
          ]
        }
      ]
    },
    {
      "cell_type": "code",
      "source": [
        "taylor_swift = Person('Swift', 'Taylor')\n",
        "\n",
        "chuck = Person('chuck', 'buck', mother=taylor_swift)\n",
        "Joe = Person('Joe', 'Bow', mother=taylor_swift)\n",
        "unknown_parent = Person('Joe', 'Unknown')\n",
        "\n",
        "print(\"Is any parent unknown for Chuck?\", chuck.unknownParent())\n",
        "print(\"Is any parent unknown for Joe?\", Joe.unknownParent())\n",
        "print(\"Is any parent unknown for Unknown?\", unknown_parent.unknownParent())\n",
        "\n",
        "print(\"Maternal grandmother of Chuck:\", chuck.maternalGrandmother())\n",
        "print(\"Maternal grandmother of Joe:\", Joe.maternalGrandmother())\n",
        "print(\"Maternal grandmother of Unknown:\", unknown_parent.maternalGrandmother())"
      ],
      "metadata": {
        "id": "gX1qpcKzFwoZ",
        "outputId": "1602d5b5-ae2f-42de-deab-c84ffd7f7ca0",
        "colab": {
          "base_uri": "https://localhost:8080/"
        }
      },
      "execution_count": 19,
      "outputs": [
        {
          "output_type": "stream",
          "name": "stdout",
          "text": [
            "Is any parent unknown for Chuck? True\n",
            "Is any parent unknown for Joe? True\n",
            "Is any parent unknown for Unknown? True\n",
            "Maternal grandmother of Chuck: unknown\n",
            "Maternal grandmother of Joe: unknown\n",
            "Maternal grandmother of Unknown: unknown\n"
          ]
        }
      ]
    }
  ]
}