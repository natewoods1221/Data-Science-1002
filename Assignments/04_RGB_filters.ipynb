{
  "nbformat": 4,
  "nbformat_minor": 0,
  "metadata": {
    "colab": {
      "provenance": [],
      "include_colab_link": true
    },
    "kernelspec": {
      "name": "python3",
      "display_name": "Python 3"
    },
    "language_info": {
      "name": "python"
    }
  },
  "cells": [
    {
      "cell_type": "markdown",
      "metadata": {
        "id": "view-in-github",
        "colab_type": "text"
      },
      "source": [
        "<a href=\"https://colab.research.google.com/github/natewoods1221/Data-Science-1002/blob/main/Assignments/04_RGB_filters.ipynb\" target=\"_parent\"><img src=\"https://colab.research.google.com/assets/colab-badge.svg\" alt=\"Open In Colab\"/></a>"
      ]
    },
    {
      "cell_type": "markdown",
      "source": [
        "## DS 1002\n",
        "### RGB Assignment\n",
        "### Due 19 February at noon\n",
        "\n"
      ],
      "metadata": {
        "id": "YuG-3Am-IqO5"
      }
    },
    {
      "cell_type": "markdown",
      "source": [
        "\n",
        "### Preliminaries:  function returns\n",
        "\n",
        "Remember the metaphor of a function as a box that sits over in the corner, and when it is called upon to act, it takes whatever inputs it needs and does something.  Typically a function will \"return\" something to the program at the end of its execution.  From the *program's* point of view, when the program calls the function, it is just like evaluating an expression; the \"value\" is whatever the function returns.\n",
        "This works in exactly the same way for built-in functions and for functions you define.  \n",
        "\n",
        "Compare the following two code chunks and make sure you understand the difference."
      ],
      "metadata": {
        "id": "uX5J2gxhOTrh"
      }
    },
    {
      "cell_type": "code",
      "source": [
        "def square1(num):\n",
        "  return num * num\n",
        "\n",
        "for i in range(10):\n",
        "  print(\"The square of\", i, \"is\", square1(i))"
      ],
      "metadata": {
        "id": "cXZk23M4MY0u"
      },
      "execution_count": null,
      "outputs": []
    },
    {
      "cell_type": "code",
      "source": [
        "def square2(num):\n",
        "  num * num\n",
        "\n",
        "for i in range(10):\n",
        "  print(\"The square of\", i, \"is\", square2(i))"
      ],
      "metadata": {
        "id": "omWWqsX7Odij"
      },
      "execution_count": null,
      "outputs": []
    },
    {
      "cell_type": "markdown",
      "source": [
        "The second function calculates the square, but it doesn't return anything."
      ],
      "metadata": {
        "id": "V4EywsAHPgkj"
      }
    },
    {
      "cell_type": "markdown",
      "source": [
        "There is no law that forces the function to return something that is related to the argument.  For example the next function computes the square but then returns something else entirely:"
      ],
      "metadata": {
        "id": "mFnQkiuJQAWy"
      }
    },
    {
      "cell_type": "code",
      "execution_count": null,
      "metadata": {
        "id": "bba9WA0JIpS_"
      },
      "outputs": [],
      "source": [
        "def example1(num):\n",
        "  x = num * num\n",
        "  return \"Hello\"\n",
        "\n",
        "for i in range(10):\n",
        "  print(\"The square of\", i, \"is\", example1(i))\n"
      ]
    },
    {
      "cell_type": "markdown",
      "source": [
        "When a function returns something, its work is done.  It doesn't execute anything after a `return` command.  For example the `print()` function in the following function is not executed:"
      ],
      "metadata": {
        "id": "SU15ImGOWq4l"
      }
    },
    {
      "cell_type": "code",
      "source": [
        "def example1(num):\n",
        "  x = num * num\n",
        "  return \"Hello\"\n",
        "  print(x)\n",
        "\n",
        "for i in range(10):\n",
        "  print(\"The square of\", i, \"is\", example1(i))"
      ],
      "metadata": {
        "id": "12xRauJPWkBd"
      },
      "execution_count": null,
      "outputs": []
    },
    {
      "cell_type": "markdown",
      "source": [
        "Note also the types of the corresponding objects."
      ],
      "metadata": {
        "id": "Ba4pSHToQgik"
      }
    },
    {
      "cell_type": "code",
      "source": [
        "def example2():\n",
        "  return \"Hello there\"\n",
        "\n",
        "example2()\n",
        "print(example2())\n",
        "print(type(example2))\n",
        "print(type(example2()))"
      ],
      "metadata": {
        "id": "NMpfJMeMQf7N"
      },
      "execution_count": null,
      "outputs": []
    },
    {
      "cell_type": "markdown",
      "source": [
        "### Assignment"
      ],
      "metadata": {
        "id": "U7ZcjiClRwfk"
      }
    },
    {
      "cell_type": "markdown",
      "source": [
        "1.  Start a new colab notebook.  Import `numpy` as `np` at the top.  You may need to import other packages as well!\n",
        "2.  Write code in your notebook to implement the red / green / blue filters we talked about in class.  Specifically:\n",
        "- Define a function that takes a photo as an argument and returns a \"red-filtered\" version of the photo.  Remember, a photo is a 3d array whose first two dimensions are the height and width measured in pixels, and the third dimension is an `[R, G, B]` array.  To red-filter the photo means to keep only the `R` values, and to change all the `G` and `B` values to zeros.\n",
        "- Similarly define a second function that green-filters a photo, and a third function that blue-filters a photo.\n",
        "3.  Write a script to do the following:\n",
        "- prompt the user for the url of a .jpg file (don't worry about making your code robust)\n",
        "- when the user enters a url, the script should display the original image, plus six additional images. The first three additional images should be:  \n",
        "(1) the red-filtered version,  \n",
        "(2) the green-filtered version, and  \n",
        "(3) the blue-filtered version.  \n",
        "The last three additional images should be  \n",
        "(4) a version with both R and G values but no blue,  \n",
        "(5) a version with R and B values but no green, and  \n",
        "(6) a version with G and B values but no red.  \n",
        "The images should be clearly labeled.\n",
        "- finally, as a check, the code should verify (using a logical test, not by visually comparing) that the original image is identical to the image obtained by combining the red-, green-, and blue- filtered images into one image.\n",
        "4.  Submit your colab notebook including the output of at least two runs of your script (on different images).  To keep multiple outputs, you might need to copy your code into a different chunk and keep the output of each chunk.  \n",
        "5.  I hope it goes without saying, but keep your images appropriate.\n",
        "6.  Also, please make your code neat and well-documented.  Your grade will be based mainly on the code performing correctly, but there will also be points for neat, well-documented code and points for effective use of programming principles.\n",
        "\n"
      ],
      "metadata": {
        "id": "3hql6GoFLztW"
      }
    }
  ]
}