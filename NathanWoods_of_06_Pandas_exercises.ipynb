{
  "cells": [
    {
      "cell_type": "markdown",
      "metadata": {
        "id": "view-in-github",
        "colab_type": "text"
      },
      "source": [
        "<a href=\"https://colab.research.google.com/github/natewoods1221/Data-Science-1002/blob/main/NathanWoods_of_06_Pandas_exercises.ipynb\" target=\"_parent\"><img src=\"https://colab.research.google.com/assets/colab-badge.svg\" alt=\"Open In Colab\"/></a>"
      ]
    },
    {
      "cell_type": "markdown",
      "metadata": {
        "id": "L_nKffgWPs-1"
      },
      "source": [
        "## Pandas exercises 1\n",
        "\n",
        "1. Import dependencies"
      ]
    },
    {
      "cell_type": "code",
      "execution_count": null,
      "metadata": {
        "id": "hASl6yoNPs-2"
      },
      "outputs": [],
      "source": [
        "import pandas as pd"
      ]
    },
    {
      "cell_type": "markdown",
      "metadata": {
        "id": "33KUt_fEPs-2"
      },
      "source": [
        "---"
      ]
    },
    {
      "cell_type": "code",
      "execution_count": null,
      "metadata": {
        "id": "ZZmr1aIoPs-3"
      },
      "outputs": [],
      "source": [
        "Nate_list = [98, 24, 46, 87, 33]"
      ]
    },
    {
      "cell_type": "markdown",
      "metadata": {
        "id": "jGSEPEqXPs-3"
      },
      "source": [
        "2. Convert `list` to a pandas series using `pd.Series`"
      ]
    },
    {
      "cell_type": "code",
      "execution_count": null,
      "metadata": {
        "id": "nZ1y9HF6Ps-3",
        "outputId": "e1c3e44b-bd26-41d9-f8b0-359770063d18",
        "colab": {
          "base_uri": "https://localhost:8080/"
        }
      },
      "outputs": [
        {
          "output_type": "stream",
          "name": "stdout",
          "text": [
            "0    98\n",
            "1    24\n",
            "2    46\n",
            "3    87\n",
            "4    33\n",
            "dtype: int64\n"
          ]
        }
      ],
      "source": [
        "series = pd.Series(Nate_list)\n",
        "print(series)\n"
      ]
    },
    {
      "cell_type": "markdown",
      "metadata": {
        "id": "rORNi5YyPs-4"
      },
      "source": [
        "3. Take the above series and add an index that starts at 2 and steps by 3"
      ]
    },
    {
      "cell_type": "code",
      "execution_count": null,
      "metadata": {
        "id": "YC8f3lAMPs-4",
        "outputId": "9f380def-3860-4f3e-bb25-b9b6906ea9f4",
        "colab": {
          "base_uri": "https://localhost:8080/"
        }
      },
      "outputs": [
        {
          "output_type": "stream",
          "name": "stdout",
          "text": [
            "2     98\n",
            "5     24\n",
            "8     46\n",
            "11    87\n",
            "14    33\n",
            "dtype: int64\n"
          ]
        }
      ],
      "source": [
        "series.index = range(2, 2 + len(Nate_list) * 3, 3)\n",
        "print(series)"
      ]
    },
    {
      "cell_type": "markdown",
      "metadata": {
        "id": "2P199KkwPs-4"
      },
      "source": [
        "4. Create a dictionary of 4 names, ages, and careers   \n",
        "Convert this dictionary to a pandas dataframe: `df`.  \n",
        "Print the dataframe."
      ]
    },
    {
      "cell_type": "code",
      "execution_count": null,
      "metadata": {
        "id": "lWoGNi5hPs-5",
        "outputId": "13050883-34d0-400d-8911-e43858e8dfce",
        "colab": {
          "base_uri": "https://localhost:8080/"
        }
      },
      "outputs": [
        {
          "output_type": "stream",
          "name": "stdout",
          "text": [
            "    name  age   career\n",
            "0  Bryan   21  plumber\n",
            "1    Joe   42    judge\n",
            "2    Tim   72   doctor\n",
            "3   Matt   16   police\n"
          ]
        }
      ],
      "source": [
        "Information = {\n",
        "    'name' : ['Bryan', 'Joe', 'Tim', 'Matt'],\n",
        "    'age' : [21, 42, 72, 16],\n",
        "    'career' : ['plumber', 'judge', 'doctor', 'police']\n",
        "}\n",
        "df = pd.DataFrame(Information)\n",
        "print(df)\n"
      ]
    },
    {
      "cell_type": "markdown",
      "metadata": {
        "id": "TD-Ej1K_Ps-5"
      },
      "source": [
        "5. Name the index of `df` 'participant_id'.  \n",
        "Print `df`."
      ]
    },
    {
      "cell_type": "code",
      "execution_count": null,
      "metadata": {
        "id": "_54NO6pRPs-5",
        "outputId": "b52c9584-489b-4668-c9c5-7589d746b921",
        "colab": {
          "base_uri": "https://localhost:8080/"
        }
      },
      "outputs": [
        {
          "output_type": "stream",
          "name": "stdout",
          "text": [
            "                 name  age   career\n",
            "participant_id                     \n",
            "0               Bryan   21  plumber\n",
            "1                 Joe   42    judge\n",
            "2                 Tim   72   doctor\n",
            "3                Matt   16   police\n"
          ]
        }
      ],
      "source": [
        "df = df.rename_axis('participant_id')\n",
        "print(df)"
      ]
    },
    {
      "cell_type": "markdown",
      "metadata": {
        "id": "-JXKN55IPs-5"
      },
      "source": [
        "6. Use a pandas function to determine the data types of the columns of `df`."
      ]
    },
    {
      "cell_type": "code",
      "execution_count": null,
      "metadata": {
        "id": "pmbPdPYmPs-5",
        "outputId": "2ed7ec00-544d-42a0-e2db-f52a31a8e11e",
        "colab": {
          "base_uri": "https://localhost:8080/"
        }
      },
      "outputs": [
        {
          "output_type": "stream",
          "name": "stdout",
          "text": [
            "name      object\n",
            "age        int64\n",
            "career    object\n",
            "dtype: object\n"
          ]
        }
      ],
      "source": [
        "print(df.dtypes)"
      ]
    },
    {
      "cell_type": "markdown",
      "metadata": {
        "id": "67Yv1vrcPs-5"
      },
      "source": [
        "7. Using bracket notation, reference column `name`"
      ]
    },
    {
      "cell_type": "code",
      "execution_count": null,
      "metadata": {
        "id": "KvYDyocgPs-6",
        "outputId": "b873a924-1b9c-4f49-c9b2-a75fc33aa297",
        "colab": {
          "base_uri": "https://localhost:8080/"
        }
      },
      "outputs": [
        {
          "output_type": "execute_result",
          "data": {
            "text/plain": [
              "participant_id\n",
              "0    Bryan\n",
              "1      Joe\n",
              "2      Tim\n",
              "3     Matt\n",
              "Name: name, dtype: object"
            ]
          },
          "metadata": {},
          "execution_count": 14
        }
      ],
      "source": [
        "df['name']"
      ]
    },
    {
      "cell_type": "markdown",
      "metadata": {
        "id": "m3cxo1_DPs-6"
      },
      "source": [
        "8. Using dot notation, reference column `name`"
      ]
    },
    {
      "cell_type": "code",
      "execution_count": null,
      "metadata": {
        "id": "1GWDNZpDPs-6",
        "outputId": "9e063df4-7b5a-40ed-db65-79a7acc77879",
        "colab": {
          "base_uri": "https://localhost:8080/"
        }
      },
      "outputs": [
        {
          "output_type": "execute_result",
          "data": {
            "text/plain": [
              "participant_id\n",
              "0    Bryan\n",
              "1      Joe\n",
              "2      Tim\n",
              "3     Matt\n",
              "Name: name, dtype: object"
            ]
          },
          "metadata": {},
          "execution_count": 15
        }
      ],
      "source": [
        "df.name"
      ]
    },
    {
      "cell_type": "markdown",
      "metadata": {
        "id": "QXcydAo-Ps-6"
      },
      "source": [
        "8. Reference column `name` and have it returned in a dataframe."
      ]
    },
    {
      "cell_type": "code",
      "execution_count": null,
      "metadata": {
        "id": "Es6jw5eKPs-6",
        "outputId": "6b77b3e6-9f07-4bbe-e60e-7574c9aa6d9b",
        "colab": {
          "base_uri": "https://localhost:8080/"
        }
      },
      "outputs": [
        {
          "output_type": "stream",
          "name": "stdout",
          "text": [
            "                 name\n",
            "participant_id       \n",
            "0               Bryan\n",
            "1                 Joe\n",
            "2                 Tim\n",
            "3                Matt\n"
          ]
        }
      ],
      "source": [
        "name_df = df[['name']]\n",
        "print(name_df)"
      ]
    },
    {
      "cell_type": "markdown",
      "metadata": {
        "id": "FGvwXkmsPs-6"
      },
      "source": [
        "9. Show the 3rd element in column `career`."
      ]
    },
    {
      "cell_type": "code",
      "execution_count": null,
      "metadata": {
        "id": "9DFRMXJ-Ps-6",
        "outputId": "5146777e-f240-44bf-efd7-dd92cf21aa68",
        "colab": {
          "base_uri": "https://localhost:8080/"
        }
      },
      "outputs": [
        {
          "output_type": "stream",
          "name": "stdout",
          "text": [
            "doctor\n"
          ]
        }
      ],
      "source": [
        "third_career = df['career'].iloc[2]\n",
        "print(third_career)"
      ]
    },
    {
      "cell_type": "markdown",
      "source": [
        "10.  Load the `iris` dataset that we used in class.  Use `iris` as the name of your data frame."
      ],
      "metadata": {
        "id": "rRH599bKtjbE"
      }
    },
    {
      "cell_type": "code",
      "source": [
        "import seaborn as sns\n",
        "iris = sns.load_dataset('iris')"
      ],
      "metadata": {
        "id": "zzf2X8hptu02"
      },
      "execution_count": null,
      "outputs": []
    },
    {
      "cell_type": "markdown",
      "source": [
        "11.  What is the correlation between the variables `sepal_length` and `sepal_width` for all the irises?"
      ],
      "metadata": {
        "id": "AKz6-jVWtvSB"
      }
    },
    {
      "cell_type": "code",
      "source": [
        "correlation = iris['sepal_length'].corr(iris['sepal_width'])\n",
        "print(\"Correlation between sepal_length and sepal_width:\", correlation)"
      ],
      "metadata": {
        "id": "hee42cCiuUaQ",
        "outputId": "5e6e1b27-5d03-45b5-9c56-20b6165aa6d2",
        "colab": {
          "base_uri": "https://localhost:8080/"
        }
      },
      "execution_count": null,
      "outputs": [
        {
          "output_type": "stream",
          "name": "stdout",
          "text": [
            "Correlation between sepal_length and sepal_width: -0.11756978413300208\n"
          ]
        }
      ]
    },
    {
      "cell_type": "markdown",
      "source": [
        "12.  Which of the three species has the highest correlation between `sepal_length` and `sepal_width`?  Show any calculations you use to support your answer."
      ],
      "metadata": {
        "id": "0FftiYs-uU0S"
      }
    },
    {
      "cell_type": "code",
      "source": [
        "correlation_species = iris.groupby('species')[['sepal_length', 'sepal_width']].corr().iloc[0::2, -1]\n",
        "print(\"Correlation between sepal_length and sepal_width for each species:\")\n",
        "print(correlation_species)\n",
        "#setosa has the highet correlation"
      ],
      "metadata": {
        "id": "TFGICsBQulQ-",
        "outputId": "7d364ef4-50ad-4d46-a03e-58d54333a2b4",
        "colab": {
          "base_uri": "https://localhost:8080/"
        }
      },
      "execution_count": null,
      "outputs": [
        {
          "output_type": "stream",
          "name": "stdout",
          "text": [
            "Correlation between sepal_length and sepal_width for each species:\n",
            "species                 \n",
            "setosa      sepal_length    0.742547\n",
            "versicolor  sepal_length    0.525911\n",
            "virginica   sepal_length    0.457228\n",
            "Name: sepal_width, dtype: float64\n"
          ]
        }
      ]
    },
    {
      "cell_type": "markdown",
      "source": [
        "13.  Among the four variables, the two that are most negatively correlated (overall) are `sepal_width` and `petal_length`.  (How do we know this?)  Determine the same thing but for each species separately:  for each species, which two variables have the most negative correlation?  Again, include calculations to support your answer."
      ],
      "metadata": {
        "id": "ZEwy0920u1NY"
      }
    },
    {
      "cell_type": "code",
      "source": [
        "grouped_species = iris.groupby('species')\n",
        "for species, data in grouped_species:\n",
        "    correlation_options = data[['sepal_length', 'sepal_width', 'petal_length', 'petal_width']].corr()\n",
        "    min_correlation = correlation_options.min().min()\n",
        "    variables_with_min_correlation = correlation_options.stack()[\n",
        "        correlation_options.stack() == min_correlation].index.tolist()\n",
        "\n",
        "    print(f\"species '{species}':\")\n",
        "    print(f\"The variables with the most negative correlation are: {variables_with_min_correlation}, Correlation: {min_correlation}\\n\")"
      ],
      "metadata": {
        "id": "bcqtPTtHvjLI",
        "colab": {
          "base_uri": "https://localhost:8080/"
        },
        "outputId": "49f3e014-b39a-4156-cfa2-b03eb4d3d84b"
      },
      "execution_count": null,
      "outputs": [
        {
          "output_type": "stream",
          "name": "stdout",
          "text": [
            "species 'setosa':\n",
            "The variables with the most negative correlation are: [('sepal_width', 'petal_length'), ('petal_length', 'sepal_width')], Correlation: 0.1776999667822706\n",
            "\n",
            "species 'versicolor':\n",
            "The variables with the most negative correlation are: [('sepal_length', 'sepal_width'), ('sepal_width', 'sepal_length')], Correlation: 0.5259107172828247\n",
            "\n",
            "species 'virginica':\n",
            "The variables with the most negative correlation are: [('sepal_length', 'petal_width'), ('petal_width', 'sepal_length')], Correlation: 0.2811077091573193\n",
            "\n"
          ]
        }
      ]
    },
    {
      "cell_type": "markdown",
      "source": [
        "14.  Once again, the variables sepal_width and petal_length are negatively correlated. But for each individual species, these two variables are positively correlated. How is this possible? Explain this phenomenon. Use a data visualization if it helps.\n"
      ],
      "metadata": {
        "id": "cK_OhSaRvxhE"
      }
    },
    {
      "cell_type": "code",
      "source": [
        "#This is possible because it happens when patterns that are in different data groups become reversed when the groups are combined."
      ],
      "metadata": {
        "id": "H4_QQDWHwJ3t"
      },
      "execution_count": 1,
      "outputs": []
    }
  ],
  "metadata": {
    "kernelspec": {
      "display_name": "Python 3.8.9 64-bit",
      "language": "python",
      "name": "python3"
    },
    "language_info": {
      "codemirror_mode": {
        "name": "ipython",
        "version": 3
      },
      "file_extension": ".py",
      "mimetype": "text/x-python",
      "name": "python",
      "nbconvert_exporter": "python",
      "pygments_lexer": "ipython3",
      "version": "3.8.9"
    },
    "orig_nbformat": 4,
    "vscode": {
      "interpreter": {
        "hash": "31f2aee4e71d21fbe5cf8b01ff0e069b9275f58929596ceb00d14d90e3e16cd6"
      }
    },
    "colab": {
      "provenance": [],
      "include_colab_link": true
    }
  },
  "nbformat": 4,
  "nbformat_minor": 0
}