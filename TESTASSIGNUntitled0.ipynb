{
  "nbformat": 4,
  "nbformat_minor": 0,
  "metadata": {
    "colab": {
      "provenance": [],
      "authorship_tag": "ABX9TyNBZgA4XNhDdEODeoeskVzQ",
      "include_colab_link": true
    },
    "kernelspec": {
      "name": "python3",
      "display_name": "Python 3"
    },
    "language_info": {
      "name": "python"
    }
  },
  "cells": [
    {
      "cell_type": "markdown",
      "metadata": {
        "id": "view-in-github",
        "colab_type": "text"
      },
      "source": [
        "<a href=\"https://colab.research.google.com/github/natewoods1221/Data-Science-1002/blob/main/TESTASSIGNUntitled0.ipynb\" target=\"_parent\"><img src=\"https://colab.research.google.com/assets/colab-badge.svg\" alt=\"Open In Colab\"/></a>"
      ]
    },
    {
      "cell_type": "code",
      "execution_count": 3,
      "metadata": {
        "colab": {
          "base_uri": "https://localhost:8080/",
          "height": 141
        },
        "id": "gKG3yJxpEfK-",
        "outputId": "98f19938-a995-4212-9e74-bfe81bea9db9"
      },
      "outputs": [
        {
          "output_type": "error",
          "ename": "IndentationError",
          "evalue": "unindent does not match any outer indentation level (<tokenize>, line 21)",
          "traceback": [
            "\u001b[0;36m  File \u001b[0;32m\"<tokenize>\"\u001b[0;36m, line \u001b[0;32m21\u001b[0m\n\u001b[0;31m    except ValueError:\u001b[0m\n\u001b[0m    ^\u001b[0m\n\u001b[0;31mIndentationError\u001b[0m\u001b[0;31m:\u001b[0m unindent does not match any outer indentation level\n"
          ]
        }
      ],
      "source": [
        "#this assignment took me and hour and a half\n",
        "print(\"The goal of the gmae is to guess the integer I came up with. I will be choosing a random integer between 0 and 100. Good luck!\")\n",
        "\n",
        "import numpy as np\n",
        "computer_integer = np.random.randint(0,100)\n",
        "\n",
        "while True:\n",
        "    try:\n",
        "        player_integer = int(input(\"Please enter your guess between 0 and 100:\"))\n",
        "\n",
        "        if player_integer == computer_integer:\n",
        "            print(\"You got it!\")\n",
        "            break\n",
        "\n",
        "    elif player_integer > computer_integer:\n",
        "        print(\"too high\")\n",
        "\n",
        "    else:\n",
        "        print(\"too low\")\n",
        "\n",
        "  except ValueError:\n",
        "      print(\"Please choose an integer and guess again\")\n",
        "\n",
        "\n",
        "\n",
        ""
      ]
    }
  ]
}